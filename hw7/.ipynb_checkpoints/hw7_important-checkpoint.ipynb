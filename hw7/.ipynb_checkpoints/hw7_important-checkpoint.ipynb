{
 "cells": [
  {
   "cell_type": "markdown",
   "metadata": {},
   "source": [
    "## HW7 B989006 권오승"
   ]
  },
  {
   "cell_type": "markdown",
   "metadata": {},
   "source": [
    "# 1. Learning a classifier for the “Imbalanced Iris” Data Set – Part II\n",
    "### 1.1.  Discretize the Iris data set into three bins. Then use the DecisionTreeClassifier with a 10-fold stratified cross validation and compute the accuracy. Afterwards plot the decision tree."
   ]
  },
  {
   "cell_type": "code",
   "execution_count": 146,
   "metadata": {},
   "outputs": [
    {
     "data": {
      "text/html": [
       "<div>\n",
       "<style scoped>\n",
       "    .dataframe tbody tr th:only-of-type {\n",
       "        vertical-align: middle;\n",
       "    }\n",
       "\n",
       "    .dataframe tbody tr th {\n",
       "        vertical-align: top;\n",
       "    }\n",
       "\n",
       "    .dataframe thead th {\n",
       "        text-align: right;\n",
       "    }\n",
       "</style>\n",
       "<table border=\"1\" class=\"dataframe\">\n",
       "  <thead>\n",
       "    <tr style=\"text-align: right;\">\n",
       "      <th></th>\n",
       "      <th>SepalLength</th>\n",
       "      <th>SepalWidth</th>\n",
       "      <th>PetalLength</th>\n",
       "      <th>PetalWidth</th>\n",
       "      <th>Name</th>\n",
       "    </tr>\n",
       "  </thead>\n",
       "  <tbody>\n",
       "    <tr>\n",
       "      <th>0</th>\n",
       "      <td>5.1</td>\n",
       "      <td>3.5</td>\n",
       "      <td>1.4</td>\n",
       "      <td>0.2</td>\n",
       "      <td>Iris-setosa</td>\n",
       "    </tr>\n",
       "    <tr>\n",
       "      <th>1</th>\n",
       "      <td>4.9</td>\n",
       "      <td>3.0</td>\n",
       "      <td>1.4</td>\n",
       "      <td>0.2</td>\n",
       "      <td>Iris-setosa</td>\n",
       "    </tr>\n",
       "    <tr>\n",
       "      <th>2</th>\n",
       "      <td>4.7</td>\n",
       "      <td>3.2</td>\n",
       "      <td>1.3</td>\n",
       "      <td>0.2</td>\n",
       "      <td>Iris-setosa</td>\n",
       "    </tr>\n",
       "    <tr>\n",
       "      <th>3</th>\n",
       "      <td>4.6</td>\n",
       "      <td>3.1</td>\n",
       "      <td>1.5</td>\n",
       "      <td>0.2</td>\n",
       "      <td>Iris-setosa</td>\n",
       "    </tr>\n",
       "    <tr>\n",
       "      <th>4</th>\n",
       "      <td>5.0</td>\n",
       "      <td>3.6</td>\n",
       "      <td>1.4</td>\n",
       "      <td>0.2</td>\n",
       "      <td>Iris-setosa</td>\n",
       "    </tr>\n",
       "  </tbody>\n",
       "</table>\n",
       "</div>"
      ],
      "text/plain": [
       "   SepalLength  SepalWidth  PetalLength  PetalWidth         Name\n",
       "0          5.1         3.5          1.4         0.2  Iris-setosa\n",
       "1          4.9         3.0          1.4         0.2  Iris-setosa\n",
       "2          4.7         3.2          1.3         0.2  Iris-setosa\n",
       "3          4.6         3.1          1.5         0.2  Iris-setosa\n",
       "4          5.0         3.6          1.4         0.2  Iris-setosa"
      ]
     },
     "execution_count": 146,
     "metadata": {},
     "output_type": "execute_result"
    }
   ],
   "source": [
    "import pandas as pd\n",
    "import numpy as np\n",
    "from sklearn import tree\n",
    "from sklearn.neighbors import KNeighborsClassifier\n",
    "from sklearn.metrics import accuracy_score\n",
    "from sklearn.datasets import make_classification\n",
    "from sklearn.model_selection import train_test_split\n",
    "from sklearn.model_selection import cross_val_score\n",
    "import matplotlib.pyplot as plt\n",
    "\n",
    "data = pd.read_csv('iris_imbalanced.csv',header='infer')\n",
    "data.head()"
   ]
  },
  {
   "cell_type": "code",
   "execution_count": 147,
   "metadata": {},
   "outputs": [
    {
     "data": {
      "text/html": [
       "<div>\n",
       "<style scoped>\n",
       "    .dataframe tbody tr th:only-of-type {\n",
       "        vertical-align: middle;\n",
       "    }\n",
       "\n",
       "    .dataframe tbody tr th {\n",
       "        vertical-align: top;\n",
       "    }\n",
       "\n",
       "    .dataframe thead th {\n",
       "        text-align: right;\n",
       "    }\n",
       "</style>\n",
       "<table border=\"1\" class=\"dataframe\">\n",
       "  <thead>\n",
       "    <tr style=\"text-align: right;\">\n",
       "      <th></th>\n",
       "      <th>SepalLength</th>\n",
       "      <th>SepalWidth</th>\n",
       "      <th>PetalLength</th>\n",
       "      <th>PetalWidth</th>\n",
       "      <th>Name</th>\n",
       "    </tr>\n",
       "  </thead>\n",
       "  <tbody>\n",
       "    <tr>\n",
       "      <th>0</th>\n",
       "      <td>5.1</td>\n",
       "      <td>3.5</td>\n",
       "      <td>1.4</td>\n",
       "      <td>0.2</td>\n",
       "      <td>0</td>\n",
       "    </tr>\n",
       "    <tr>\n",
       "      <th>1</th>\n",
       "      <td>4.9</td>\n",
       "      <td>3.0</td>\n",
       "      <td>1.4</td>\n",
       "      <td>0.2</td>\n",
       "      <td>0</td>\n",
       "    </tr>\n",
       "    <tr>\n",
       "      <th>2</th>\n",
       "      <td>4.7</td>\n",
       "      <td>3.2</td>\n",
       "      <td>1.3</td>\n",
       "      <td>0.2</td>\n",
       "      <td>0</td>\n",
       "    </tr>\n",
       "    <tr>\n",
       "      <th>3</th>\n",
       "      <td>4.6</td>\n",
       "      <td>3.1</td>\n",
       "      <td>1.5</td>\n",
       "      <td>0.2</td>\n",
       "      <td>0</td>\n",
       "    </tr>\n",
       "    <tr>\n",
       "      <th>4</th>\n",
       "      <td>5.0</td>\n",
       "      <td>3.6</td>\n",
       "      <td>1.4</td>\n",
       "      <td>0.2</td>\n",
       "      <td>0</td>\n",
       "    </tr>\n",
       "  </tbody>\n",
       "</table>\n",
       "</div>"
      ],
      "text/plain": [
       "   SepalLength  SepalWidth  PetalLength  PetalWidth  Name\n",
       "0          5.1         3.5          1.4         0.2     0\n",
       "1          4.9         3.0          1.4         0.2     0\n",
       "2          4.7         3.2          1.3         0.2     0\n",
       "3          4.6         3.1          1.5         0.2     0\n",
       "4          5.0         3.6          1.4         0.2     0"
      ]
     },
     "execution_count": 147,
     "metadata": {},
     "output_type": "execute_result"
    }
   ],
   "source": [
    "for i in data.Name.values:\n",
    "    if i == 'Iris-setosa':\n",
    "        data.Name.replace(i,0,inplace=True)\n",
    "    elif i == 'Iris-virginica':\n",
    "        data.Name.replace(i,1,inplace=True)\n",
    "    elif i == 'Iris-versicolor':\n",
    "        data.Name.replace(i,2,inplace=True)\n",
    "data.head()"
   ]
  },
  {
   "cell_type": "markdown",
   "metadata": {},
   "source": [
    "### 1.1.1. Use DecisionTreeClassfier(with max_depth)"
   ]
  },
  {
   "cell_type": "code",
   "execution_count": 151,
   "metadata": {},
   "outputs": [
    {
     "data": {
      "text/plain": [
       "DecisionTreeClassifier(max_depth=2, random_state=1124)"
      ]
     },
     "execution_count": 151,
     "metadata": {},
     "output_type": "execute_result"
    }
   ],
   "source": [
    "feature = data.drop('Name',axis=1)\n",
    "label = data['Name']\n",
    "dt = tree.DecisionTreeClassifier(max_depth=2,random_state=1124)\n",
    "dt"
   ]
  },
  {
   "cell_type": "markdown",
   "metadata": {},
   "source": [
    "### 1.1.2. 10-fold stratified cross validation & Compute the accuracy"
   ]
  },
  {
   "cell_type": "code",
   "execution_count": 152,
   "metadata": {},
   "outputs": [
    {
     "name": "stdout",
     "output_type": "stream",
     "text": [
      "mean score accuracy: 0.9685714285714285\n"
     ]
    }
   ],
   "source": [
    "# 10-fold stratified cross validation\n",
    "score = cross_val_score(dt,feature,label,scoring='accuracy',cv=10)\n",
    "# Compute the accuracy¶\n",
    "print('mean score accuracy:', score.mean())"
   ]
  },
  {
   "cell_type": "markdown",
   "metadata": {},
   "source": [
    "### 1.1.3. plot the decision tree"
   ]
  },
  {
   "cell_type": "code",
   "execution_count": 153,
   "metadata": {},
   "outputs": [
    {
     "data": {
      "image/png": "[encoded data removed]",
      "text/plain": [
       "<IPython.core.display.Image object>"
      ]
     },
     "execution_count": 153,
     "metadata": {},
     "output_type": "execute_result"
    }
   ],
   "source": [
    "import pydotplus\n",
    "from IPython.display import Image\n",
    "dt.fit(feature,label)\n",
    "dot_data = tree.export_graphviz(dt,filled=True, out_file=None)\n",
    "graph = pydotplus.graph_from_dot_data(dot_data)\n",
    "Image(graph.create_png())"
   ]
  },
  {
   "cell_type": "markdown",
   "metadata": {},
   "source": [
    "### 1.2. Remove the discretization and adjust the max_depth parameter of DecisionTreeClassifier to increase the accuracy. \n",
    "### Does the accuracy change? Compare the complexity of the two models. "
   ]
  },
  {
   "cell_type": "code",
   "execution_count": 155,
   "metadata": {},
   "outputs": [],
   "source": [
    "data = pd.read_csv('iris_imbalanced.csv',header='infer')\n",
    "feature = data.drop('Name',axis=1)\n",
    "label = data['Name']\n",
    "dt = tree.DecisionTreeClassifier(random_state=1124)"
   ]
  },
  {
   "cell_type": "code",
   "execution_count": 156,
   "metadata": {},
   "outputs": [
    {
     "name": "stdout",
     "output_type": "stream",
     "text": [
      "mean score accuracy: 0.9885714285714287\n"
     ]
    }
   ],
   "source": [
    "# 10-fold stratified cross validation\n",
    "score = cross_val_score(dt,feature,label,scoring='accuracy',cv=10)\n",
    "# Compute the accuracy¶\n",
    "print('mean score accuracy:', score.mean())"
   ]
  },
  {
   "cell_type": "markdown",
   "metadata": {},
   "source": [
    "accuracy가 0.96에서 0.98로 증가하였다.\n",
    "max_depth가 없는 모델은 default 값이 None으로,\n",
    "None인 상태에서는 의사결정나무의 가지를 끝까지 확장하게 된다.\n",
    "\n",
    "따라서, max_depth가 없는 모델의 정확도가 더 증가하게 된다."
   ]
  },
  {
   "cell_type": "markdown",
   "metadata": {
    "slideshow": {
     "slide_type": "slide"
    }
   },
   "source": [
    "___\n",
    "# 2. Who should get a bank credit?\n",
    "\n",
    "### 2.1. Plot ROC curves for k-NN (different k values) and Decision Tree (you can use the given avg_roc function) . Which classification approach looks most promising to you?"
   ]
  },
  {
   "cell_type": "code",
   "execution_count": 4,
   "metadata": {},
   "outputs": [
    {
     "data": {
      "image/png": "[encoded data removed]",
      "text/plain": [
       "<Figure size 432x288 with 1 Axes>"
      ]
     },
     "metadata": {
      "needs_background": "light"
     },
     "output_type": "display_data"
    }
   ],
   "source": [
    "# import warnings filter\n",
    "from warnings import simplefilter\n",
    "# ignore all future warnings\n",
    "simplefilter(action='ignore', category=FutureWarning)\n",
    "\n",
    "from sklearn import preprocessing\n",
    "import numpy as np\n",
    "import matplotlib.pyplot as plt\n",
    "import pandas as pd\n",
    "from tqdm import tqdm\n",
    "from collections import Counter\n",
    "\n",
    "\n",
    "names=[('Attribute '+str(i)) for i in range(1,21)]\n",
    "names.append('class')\n",
    "credit = pd.read_csv(\"german.data\",sep=' ',header=None,names=names)\n",
    "credit.head()\n",
    "\n",
    "# separate the target variable from the features\n",
    "credit_target = credit['class']\n",
    "\n",
    "credit_data = credit.drop('class', axis=1)\n",
    "\n",
    "# plot the class distribution\n",
    "c = ['good','bad']\n",
    "counter = Counter(credit_target)\n",
    "plt.bar(counter.keys(), counter.values(),color=['coral','lightpink'])\n",
    "plt.show()"
   ]
  },
  {
   "cell_type": "code",
   "execution_count": 5,
   "metadata": {},
   "outputs": [],
   "source": [
    "for i in credit_target.values:\n",
    "    if i == 2:\n",
    "        credit_target.replace(i,0,inplace=True)"
   ]
  },
  {
   "cell_type": "code",
   "execution_count": 6,
   "metadata": {},
   "outputs": [
    {
     "data": {
      "text/plain": [
       "Index(['Attribute 2', 'Attribute 5', 'Attribute 8', 'Attribute 11',\n",
       "       'Attribute 13', 'Attribute 16', 'Attribute 18'],\n",
       "      dtype='object')"
      ]
     },
     "execution_count": 6,
     "metadata": {},
     "output_type": "execute_result"
    }
   ],
   "source": [
    "credit_data.select_dtypes(include=['int64', 'float64']).columns"
   ]
  },
  {
   "cell_type": "code",
   "execution_count": 7,
   "metadata": {},
   "outputs": [],
   "source": [
    "from sklearn.pipeline import Pipeline\n",
    "from sklearn.preprocessing import OneHotEncoder, OrdinalEncoder, StandardScaler\n",
    "from sklearn.compose import ColumnTransformer\n",
    "\n",
    "# think about which features you want to re-scale, encode using one-hot encoding or encode using ordinal encoding\n",
    "# then, create a ColumnTransformer to execute this preprocessing for you\n",
    "cat_ix = credit_data.select_dtypes(include=['object', 'bool']).columns\n",
    "num_ix = credit_data.select_dtypes(include=['int64', 'float64']).columns\n",
    "\n",
    "# one hot encode cat features only\n",
    "preprocessor = ColumnTransformer([('c',OneHotEncoder(),cat_ix), ('n',StandardScaler(),num_ix)])"
   ]
  },
  {
   "cell_type": "markdown",
   "metadata": {},
   "source": [
    "Run the following cell once to define the ```avg_roc``` function:"
   ]
  },
  {
   "cell_type": "code",
   "execution_count": 8,
   "metadata": {
    "slideshow": {
     "slide_type": "subslide"
    }
   },
   "outputs": [],
   "source": [
    "#define function for computing average roc for cross validation\n",
    "#see http://scikit-learn.org/stable/auto_examples/model_selection/plot_roc_crossval.html\n",
    "from scipy import interp\n",
    "from sklearn.metrics import roc_curve, auc\n",
    "\n",
    "def avg_roc(cv, estimator, data, target,classifier):\n",
    "    print(estimator['estimator'])\n",
    "\n",
    "    mean_fpr = np.linspace(0, 1, 100) # = [0.0, 0.01, 0.02, 0.03, ... , 0.99, 1.0]\n",
    "    tprs = []\n",
    "    aucs = []\n",
    "    for train_indices, test_indices in cv.split(data, target):\n",
    "        train_data = data.iloc[train_indices]\n",
    "        train_target = target[train_indices]\n",
    "        estimator.fit(train_data, train_target)\n",
    "        test_data = data.iloc[test_indices]\n",
    "        test_target = target[test_indices]\n",
    "        decision_for_each_class = estimator.predict_proba(test_data)\n",
    "    \n",
    "        fpr, tpr, thresholds = roc_curve(test_target, decision_for_each_class[:,1]) #, pos_label=pos_label\n",
    "        tprs.append(interp(mean_fpr, fpr, tpr))\n",
    "        tprs[-1][0] = 0.0 # tprs[-1] access the last element\n",
    "        aucs.append(auc(fpr, tpr))\n",
    "        if(classifier==KNeighborsClassifier):\n",
    "            plt.plot(fpr, tpr)# plot for each fold\n",
    "        \n",
    "    mean_tpr = np.mean(tprs, axis=0)\n",
    "    mean_tpr[-1] = 1.0 # set the last tpr to 1\n",
    "    mean_auc = auc(mean_fpr, mean_tpr)\n",
    "    std_auc = np.std(aucs)\n",
    "    \n",
    "    return mean_fpr, mean_tpr, mean_auc, std_auc"
   ]
  },
  {
   "cell_type": "markdown",
   "metadata": {},
   "source": [
    "The evaluate different classifiers using the ```avg_roc``` function and plot the results:"
   ]
  },
  {
   "cell_type": "code",
   "execution_count": 9,
   "metadata": {
    "scrolled": false,
    "slideshow": {
     "slide_type": "subslide"
    }
   },
   "outputs": [
    {
     "name": "stdout",
     "output_type": "stream",
     "text": [
      "KNeighborsClassifier()\n",
      "KNeighborsClassifier()\n",
      "KNeighborsClassifier()\n",
      "KNeighborsClassifier()\n",
      "KNeighborsClassifier()\n",
      "DecisionTreeClassifier()\n",
      "GaussianNB()\n"
     ]
    },
    {
     "data": {
      "image/png": "[encoded data removed]",
      "text/plain": [
       "<Figure size 720x720 with 1 Axes>"
      ]
     },
     "metadata": {
      "needs_background": "light"
     },
     "output_type": "display_data"
    }
   ],
   "source": [
    "from sklearn.neighbors import KNeighborsClassifier\n",
    "from sklearn.tree import DecisionTreeClassifier\n",
    "from sklearn.naive_bayes import GaussianNB\n",
    "import matplotlib.pyplot as plt\n",
    "from sklearn.model_selection import StratifiedKFold\n",
    "\n",
    "# define the cross validation folds\n",
    "cv = StratifiedKFold(n_splits=10, shuffle=True, random_state=42)\n",
    "classifier = KNeighborsClassifier()\n",
    "# create the pipeline, we will set the estimator later\n",
    "pipeline = Pipeline([ ('preprocessing', preprocessor), ('estimator', classifier) ])\n",
    "# setup a figure\n",
    "plt.figure(figsize=(10,10))\n",
    "plt.plot([0, 1], [0, 1], linestyle='--', lw=2, color='r', label='Random', alpha=.8) # draw diagonal\n",
    "\n",
    "# KNN\n",
    "for n_neighbour in [2,3,4,5,6]:\n",
    "    #TODO: INSERT YOUR CODE HERE!\n",
    "    mean_fpr, mean_tpr, mean_auc, std_auc = avg_roc(cv, pipeline, credit_data, credit_target,KNeighborsClassifier)\n",
    "    plt.plot(mean_fpr, mean_tpr, label='{}-NN (AUC: {:.3f} $\\pm$ {:.3f})'.format(n_neighbour, mean_auc, std_auc))\n",
    "\n",
    "# Decision Tree\n",
    "classifier = DecisionTreeClassifier()\n",
    "# create the pipeline, we will set the estimator later\n",
    "pipeline = Pipeline([ ('preprocessing', preprocessor), ('estimator', classifier) ])\n",
    "mean_fpr, mean_tpr, mean_auc, std_auc = avg_roc(cv, pipeline, credit_data,credit_target,DecisionTreeClassifier)\n",
    "plt.plot(mean_fpr, mean_tpr, label='DecisonTree (AUC: {:.3f} $\\pm$ {:.3f})'.format(mean_auc, std_auc))\n",
    "\n",
    "# Naive Bayes\n",
    "classifier = GaussianNB()\n",
    "# create the pipeline, we will set the estimator later\n",
    "pipeline = Pipeline([ ('preprocessing', preprocessor), ('estimator', classifier) ])\n",
    "mean_fpr, mean_tpr, mean_auc, std_auc = avg_roc(cv, pipeline, credit_data,credit_target,GaussianNB)\n",
    "plt.plot(mean_fpr, mean_tpr, label='Navie Bayes (AUC: {:.3f} $\\pm$ {:.3f})'.format(mean_auc, std_auc))\n",
    "\n",
    "\n",
    "# show the plot\n",
    "plt.xlabel('false positive rate')\n",
    "plt.ylabel('true positive rate')\n",
    "plt.legend()\n",
    "plt.show()"
   ]
  },
  {
   "cell_type": "markdown",
   "metadata": {
    "collapsed": true,
    "slideshow": {
     "slide_type": "slide"
    }
   },
   "source": [
    "### 2.2.\tFor the two most promising classification approaches, compute the accuracy and confusion matrix in a 10-fold CV setup. Which level of accuracy do you reach?"
   ]
  },
  {
   "cell_type": "code",
   "execution_count": 12,
   "metadata": {},
   "outputs": [],
   "source": [
    "from sklearn.neighbors import KNeighborsClassifier\n",
    "from sklearn.tree import DecisionTreeClassifier\n",
    "import matplotlib.pyplot as plt\n",
    "from sklearn.model_selection import StratifiedKFold\n",
    "from sklearn.metrics import plot_confusion_matrix\n",
    "from sklearn.model_selection import train_test_split\n",
    "\n",
    "# define the cross validation folds\n",
    "cv = StratifiedKFold(n_splits=10, shuffle=True, random_state=42)\n",
    "X_train, X_test, y_train, y_test = train_test_split(credit_data,credit_target,stratify=credit_target,test_size=0.2,random_state=1)"
   ]
  },
  {
   "cell_type": "markdown",
   "metadata": {},
   "source": [
    "#### compute the accuracy and confusion matrix in a 10-fold CV setup [ Decision Tree ]"
   ]
  },
  {
   "cell_type": "code",
   "execution_count": 14,
   "metadata": {},
   "outputs": [
    {
     "name": "stdout",
     "output_type": "stream",
     "text": [
      "accuracy 0.6762499999999999\n"
     ]
    },
    {
     "data": {
      "image/png": "[encoded data removed]",
      "text/plain": [
       "<Figure size 432x288 with 2 Axes>"
      ]
     },
     "metadata": {
      "needs_background": "light"
     },
     "output_type": "display_data"
    }
   ],
   "source": [
    "from sklearn.metrics import accuracy_score\n",
    "from sklearn.model_selection import cross_val_score\n",
    "\n",
    "pipeline = Pipeline([ ('preprocessing', preprocessor), ('estimator', DecisionTreeClassifier()) ])\n",
    "scores = cross_val_score(pipeline, X_train, y_train, scoring='accuracy', cv=10)\n",
    "\n",
    "pipeline.fit(X_train,y_train)\n",
    "plot_confusion_matrix(pipeline,X_test,y_test)\n",
    "\n",
    "\n",
    "predY = pipeline.predict(X_test)\n",
    "print('accuracy',scores.mean())"
   ]
  },
  {
   "cell_type": "markdown",
   "metadata": {},
   "source": [
    "#### compute the accuracy and confusion matrix in a 10-fold CV setup [ KNN ]"
   ]
  },
  {
   "cell_type": "code",
   "execution_count": 15,
   "metadata": {},
   "outputs": [
    {
     "name": "stdout",
     "output_type": "stream",
     "text": [
      "accuracy 0.7337499999999999\n"
     ]
    },
    {
     "data": {
      "image/png": "[encoded data removed]",
      "text/plain": [
       "<Figure size 432x288 with 2 Axes>"
      ]
     },
     "metadata": {
      "needs_background": "light"
     },
     "output_type": "display_data"
    }
   ],
   "source": [
    "# create the pipeline, we will set the estimator later\n",
    "pipeline = Pipeline([ ('preprocessing', preprocessor), ('estimator', KNeighborsClassifier()) ])\n",
    "scores = cross_val_score(pipeline, X_train, y_train, scoring='accuracy', cv=10)\n",
    "\n",
    "pipeline.fit(X_train,y_train)\n",
    "plot_confusion_matrix(pipeline,X_test,y_test)\n",
    "\n",
    "predY = pipeline.predict(X_test)\n",
    "print('accuracy',scores.mean())"
   ]
  },
  {
   "cell_type": "markdown",
   "metadata": {},
   "source": [
    "#### compute the accuracy and confusion matrix in a 10-fold CV setup [ Naive Bayer ]"
   ]
  },
  {
   "cell_type": "code",
   "execution_count": 16,
   "metadata": {},
   "outputs": [
    {
     "name": "stdout",
     "output_type": "stream",
     "text": [
      "accuracy 0.49375\n"
     ]
    },
    {
     "data": {
      "image/png": "[encoded data removed]",
      "text/plain": [
       "<Figure size 432x288 with 2 Axes>"
      ]
     },
     "metadata": {
      "needs_background": "light"
     },
     "output_type": "display_data"
    }
   ],
   "source": [
    "# create the pipeline, we will set the estimator later\n",
    "pipeline = Pipeline([ ('preprocessing', preprocessor), ('estimator', GaussianNB()) ])\n",
    "scores = cross_val_score(pipeline, X_train, y_train, scoring='accuracy', cv=10)\n",
    "\n",
    "pipeline.fit(X_train,y_train)\n",
    "plot_confusion_matrix(pipeline,X_test,y_test)\n",
    "\n",
    "predY = pipeline.predict(X_test)\n",
    "print('accuracy',scores.mean())"
   ]
  },
  {
   "cell_type": "markdown",
   "metadata": {
    "slideshow": {
     "slide_type": "slide"
    }
   },
   "source": [
    "### 2.3.\tWhat do the precision and recall values for the class “bad”  tell you? Try to improve the situation by increasing the number of “bad” examples in the training set (in the cross validation). How do precision and recall change if you apply this procedure? "
   ]
  },
  {
   "cell_type": "markdown",
   "metadata": {},
   "source": [
    "* before resampling"
   ]
  },
  {
   "cell_type": "code",
   "execution_count": 17,
   "metadata": {},
   "outputs": [
    {
     "data": {
      "text/plain": [
       "1    700\n",
       "0    300\n",
       "Name: class, dtype: int64"
      ]
     },
     "execution_count": 17,
     "metadata": {},
     "output_type": "execute_result"
    }
   ],
   "source": [
    "from imblearn.over_sampling import RandomOverSampler\n",
    "from imblearn.under_sampling import RandomUnderSampler\n",
    "from imblearn.pipeline import Pipeline\n",
    "\n",
    "credit_target.value_counts() # 1: 'good', 0: 'bad'"
   ]
  },
  {
   "cell_type": "markdown",
   "metadata": {},
   "source": [
    "* after resampling(random oversampling)"
   ]
  },
  {
   "cell_type": "code",
   "execution_count": 18,
   "metadata": {},
   "outputs": [
    {
     "data": {
      "text/plain": [
       "1    700\n",
       "0    700\n",
       "Name: class, dtype: int64"
      ]
     },
     "execution_count": 18,
     "metadata": {},
     "output_type": "execute_result"
    }
   ],
   "source": [
    "from sklearn.datasets import make_classification\n",
    "from sklearn.decomposition import PCA\n",
    "\n",
    "sm = RandomOverSampler()\n",
    "\n",
    "X_resampled, y_resampled = sm.fit_resample(credit_data,credit_target)\n",
    "X_train1, X_test1, y_train1, y_test1 = train_test_split(X_resampled,y_resampled,stratify=y_resampled,test_size=0.2,random_state=1)\n",
    "\n",
    "y_resampled.value_counts()"
   ]
  },
  {
   "cell_type": "markdown",
   "metadata": {},
   "source": [
    "#### compute the accuracy and confusion matrix in a 10-fold CV setup [ Decision Tree ] (after resampling)"
   ]
  },
  {
   "cell_type": "code",
   "execution_count": 19,
   "metadata": {},
   "outputs": [
    {
     "name": "stdout",
     "output_type": "stream",
     "text": [
      "accuracy 0.8116071428571429\n"
     ]
    },
    {
     "data": {
      "image/png": "[encoded data removed]",
      "text/plain": [
       "<Figure size 432x288 with 2 Axes>"
      ]
     },
     "metadata": {
      "needs_background": "light"
     },
     "output_type": "display_data"
    }
   ],
   "source": [
    "pipeline = Pipeline([ ('preprocessing', preprocessor), ('estimator', DecisionTreeClassifier()) ])\n",
    "scores = cross_val_score(pipeline,X_train1 , y_train1, scoring='accuracy', cv=10)\n",
    "\n",
    "pipeline.fit(X_train1,y_train1)\n",
    "plot_confusion_matrix(pipeline,X_test1,y_test1)\n",
    "\n",
    "predY = pipeline.predict(X_test1)\n",
    "print('accuracy',scores.mean())"
   ]
  },
  {
   "cell_type": "markdown",
   "metadata": {},
   "source": [
    "#### compute the accuracy and confusion matrix in a 10-fold CV setup [ KNN ] (after resampling)"
   ]
  },
  {
   "cell_type": "code",
   "execution_count": 39,
   "metadata": {},
   "outputs": [
    {
     "name": "stdout",
     "output_type": "stream",
     "text": [
      "accuracy 0.7169642857142857\n"
     ]
    },
    {
     "data": {
      "image/png": "[encoded data removed]",
      "text/plain": [
       "<Figure size 432x288 with 2 Axes>"
      ]
     },
     "metadata": {
      "needs_background": "light"
     },
     "output_type": "display_data"
    }
   ],
   "source": [
    "\n",
    "pipeline = Pipeline([ ('preprocessing', preprocessor), ('estimator', KNeighborsClassifier()) ])\n",
    "scores = cross_val_score(pipeline,X_train1 , y_train1, scoring='accuracy', cv=10)\n",
    "\n",
    "pipeline.fit(X_train1,y_train1)\n",
    "plot_confusion_matrix(pipeline,X_test1,y_test1)\n",
    "\n",
    "predY = pipeline.predict(X_test1)\n",
    "print('accuracy',scores.mean())"
   ]
  },
  {
   "cell_type": "markdown",
   "metadata": {},
   "source": [
    "#### compute the accuracy and confusion matrix in a 10-fold CV setup [ Naive Bayer ] (after resampling)"
   ]
  },
  {
   "cell_type": "code",
   "execution_count": 40,
   "metadata": {},
   "outputs": [
    {
     "name": "stdout",
     "output_type": "stream",
     "text": [
      "accuracy 0.68125\n"
     ]
    },
    {
     "data": {
      "image/png": "[encoded data removed]",
      "text/plain": [
       "<Figure size 432x288 with 2 Axes>"
      ]
     },
     "metadata": {
      "needs_background": "light"
     },
     "output_type": "display_data"
    }
   ],
   "source": [
    "pipeline = Pipeline([ ('preprocessing', preprocessor), ('estimator', GaussianNB()) ])\n",
    "scores = cross_val_score(pipeline,X_train1 , y_train1, scoring='accuracy', cv=10)\n",
    "\n",
    "pipeline.fit(X_train1,y_train1)\n",
    "plot_confusion_matrix(pipeline,X_test1,y_test1)\n",
    "\n",
    "predY = pipeline.predict(X_test1)\n",
    "print('accuracy',scores.mean())"
   ]
  },
  {
   "cell_type": "markdown",
   "metadata": {
    "collapsed": true,
    "slideshow": {
     "slide_type": "slide"
    }
   },
   "source": [
    "### 2.4.\tTo model a use case specific evaluation, compute the cost of all missclassifications. Set up your cost matrix by assuming that you will lose 1 Unit if you refuse a credit to a good customer, but that you lose 100 Units if you give a bad customer a credit. Rerun the experiments and evaluate the results."
   ]
  },
  {
   "cell_type": "code",
   "execution_count": 41,
   "metadata": {},
   "outputs": [],
   "source": [
    "from sklearn.metrics import confusion_matrix\n",
    "from sklearn.model_selection import cross_val_predict"
   ]
  },
  {
   "cell_type": "markdown",
   "metadata": {},
   "source": [
    "#### compute the cost of all missclassifications [ DecisionTree ]"
   ]
  },
  {
   "cell_type": "code",
   "execution_count": 42,
   "metadata": {
    "slideshow": {
     "slide_type": "subslide"
    }
   },
   "outputs": [
    {
     "name": "stdout",
     "output_type": "stream",
     "text": [
      "DecisionTreeClassifier with accuracy of 0.72 and cost 14439\n"
     ]
    }
   ],
   "source": [
    "# create the predictions here\n",
    "pipeline = Pipeline([ ('preprocessing', preprocessor), ('estimator', DecisionTreeClassifier()) ])\n",
    "pipeline.fit(X_train,y_train)\n",
    "\n",
    "prediction = cross_val_predict(pipeline, X_train, y_train, cv=10)\n",
    "predY = pipeline.predict(X_test)\n",
    "accuracy_score(y_test,predY)\n",
    "# You can use the following code to calculate the cost\n",
    "cm = confusion_matrix(y_train, prediction)\n",
    "cost = cm[0][1] * 100 + cm[1][0] * 1\n",
    "acc = accuracy_score(y_test, predY)\n",
    "print(\"DecisionTreeClassifier with accuracy of {} and cost {}\".format(acc, cost))"
   ]
  },
  {
   "cell_type": "markdown",
   "metadata": {},
   "source": [
    "#### compute the cost of all missclassifications [ 6-NN ]"
   ]
  },
  {
   "cell_type": "code",
   "execution_count": 43,
   "metadata": {
    "scrolled": true
   },
   "outputs": [
    {
     "name": "stdout",
     "output_type": "stream",
     "text": [
      "6-NN with accuracy of 0.74 and cost 13886\n"
     ]
    }
   ],
   "source": [
    "# create the predictions here\n",
    "pipeline = Pipeline([ ('preprocessing', preprocessor), ('estimator', KNeighborsClassifier(n_neighbors = 6, p=2)) ])\n",
    "pipeline.fit(X_train,y_train)\n",
    "\n",
    "prediction = cross_val_predict(pipeline, X_train, y_train, cv=10)\n",
    "predY = pipeline.predict(X_test)\n",
    "accuracy_score(y_test,predY)\n",
    "# You can use the following code to calculate the cost\n",
    "cm = confusion_matrix(y_train, prediction)\n",
    "cost = cm[0][1] * 100 + cm[1][0] * 1\n",
    "acc = accuracy_score(y_test, predY)\n",
    "print(\"6-NN with accuracy of {} and cost {}\".format(acc, cost))"
   ]
  },
  {
   "cell_type": "markdown",
   "metadata": {},
   "source": [
    "#### compute the cost of all missclassifications [ Naive Bayer ]"
   ]
  },
  {
   "cell_type": "code",
   "execution_count": 52,
   "metadata": {},
   "outputs": [
    {
     "name": "stdout",
     "output_type": "stream",
     "text": [
      "Naive Bayer with accuracy of 0.47 and cost 2880\n"
     ]
    }
   ],
   "source": [
    "# create the predictions here\n",
    "pipeline = Pipeline([ ('preprocessing', preprocessor), ('estimator', GaussianNB()) ])\n",
    "pipeline.fit(X_train,y_train)\n",
    "\n",
    "prediction = cross_val_predict(pipeline, X_train, y_train, cv=10)\n",
    "predY = pipeline.predict(X_test)\n",
    "accuracy_score(y_test,predY)\n",
    "# You can use the following code to calculate the cost\n",
    "cm = confusion_matrix(y_train, prediction)\n",
    "cost = cm[0][1] * 100 + cm[1][0] * 1\n",
    "acc = accuracy_score(y_test, predY)\n",
    "print(\"Naive Bayer with accuracy of {} and cost {}\".format(acc, cost))"
   ]
  },
  {
   "cell_type": "markdown",
   "metadata": {},
   "source": [
    "___\n",
    "#### compute the cost of all missclassifications [ Decisison Tree ] (after resampling)"
   ]
  },
  {
   "cell_type": "code",
   "execution_count": 55,
   "metadata": {},
   "outputs": [
    {
     "name": "stdout",
     "output_type": "stream",
     "text": [
      "DecisionTreeClassifier with accuracy of 0.8428571428571429 and cost 6141\n"
     ]
    }
   ],
   "source": [
    "# create the predictions here\n",
    "pipeline = Pipeline([ ('preprocessing', preprocessor), ('estimator', DecisionTreeClassifier()) ])\n",
    "pipeline.fit(X_train1,y_train1)\n",
    "\n",
    "prediction = cross_val_predict(pipeline, X_train1, y_train1, cv=10)\n",
    "predY = pipeline.predict(X_test1)\n",
    "accuracy_score(y_test1,predY)\n",
    "# You can use the following code to calculate the cost\n",
    "cm = confusion_matrix(y_train1, prediction)\n",
    "cost = cm[0][1] * 100 + cm[1][0] * 1\n",
    "acc = accuracy_score(y_test1, predY)\n",
    "print(\"DecisionTreeClassifier with accuracy of {} and cost {}\".format(acc, cost))"
   ]
  },
  {
   "cell_type": "markdown",
   "metadata": {},
   "source": [
    "#### compute the cost of all missclassifications [ 6-NN ] (after resampling)"
   ]
  },
  {
   "cell_type": "code",
   "execution_count": 53,
   "metadata": {},
   "outputs": [
    {
     "name": "stdout",
     "output_type": "stream",
     "text": [
      "6-NN with accuracy of 0.725 and cost 12217\n"
     ]
    }
   ],
   "source": [
    "# create the predictions here\n",
    "pipeline = Pipeline([ ('preprocessing', preprocessor), ('estimator', KNeighborsClassifier(n_neighbors = 6, p=2)) ])\n",
    "pipeline.fit(X_train1,y_train1)\n",
    "\n",
    "prediction = cross_val_predict(pipeline, X_train1, y_train1, cv=10)\n",
    "predY = pipeline.predict(X_test1)\n",
    "accuracy_score(y_test1,predY)\n",
    "# You can use the following code to calculate the cost\n",
    "cm = confusion_matrix(y_train1, prediction)\n",
    "cost = cm[0][1] * 100 + cm[1][0] * 1\n",
    "acc = accuracy_score(y_test1, predY)\n",
    "print(\"6-NN with accuracy of {} and cost {}\".format(acc, cost))"
   ]
  },
  {
   "cell_type": "markdown",
   "metadata": {},
   "source": [
    "#### compute the cost of all missclassifications [ Naive Bayer ] (after resampling)"
   ]
  },
  {
   "cell_type": "code",
   "execution_count": 51,
   "metadata": {},
   "outputs": [
    {
     "name": "stdout",
     "output_type": "stream",
     "text": [
      "Naive Bayer with accuracy of 0.6857142857142857 and cost 12534\n"
     ]
    }
   ],
   "source": [
    "pipeline = Pipeline([ ('preprocessing', preprocessor), ('estimator', GaussianNB()) ])\n",
    "pipeline.fit(X_train1,y_train1)\n",
    "\n",
    "prediction = cross_val_predict(pipeline, X_train1, y_train1, cv=10)\n",
    "predY = pipeline.predict(X_test1)\n",
    "accuracy_score(y_test1,predY)\n",
    "# You can use the following code to calculate the cost\n",
    "cm = confusion_matrix(y_train1, prediction)\n",
    "cost = cm[0][1] * 100 + cm[1][0] * 1\n",
    "acc = accuracy_score(y_test1, predY)\n",
    "print(\"Naive Bayer with accuracy of {} and cost {}\".format(acc, cost))\n",
    "# -----"
   ]
  },
  {
   "cell_type": "markdown",
   "metadata": {},
   "source": [
    "___\n",
    "## 3. (Parameter Tuning) Who should get a bank credit?\n",
    "### 3.1. What were the default parameters of the Decision Tree algorithm used in Question #2?"
   ]
  },
  {
   "cell_type": "markdown",
   "metadata": {},
   "source": [
    "max_depth가 없는 모델은 default 값이 None으로, None인 상태에서는 의사결정나무의 가지를 끝까지 확장하게 된다.\n",
    "즉, 완벽하게 클래스 값이 결정될 때 까지 분할하거나 데이터 개수가 min_samples_split보다 작아질 때까지 분할한다.\n",
    "<p>=> 하지만, 이로 인해 깊이가 깊어지면 과적합될 수 있으므로 적절히 제어가 필요하다."
   ]
  },
  {
   "cell_type": "markdown",
   "metadata": {},
   "source": [
    "### 3.2. Now try to find a more appropriate configuration for the Decision Tree classifier. Use the GridSearchCV from scikit-learn. Try the following parameters of the Decision Tree:\n",
    "-\tcriterion: ['gini', 'entropy']\n",
    "-\t'max_depth': [1, 2, 3, 4, 5, None] (What does None mean?)\n",
    "-\t'min_samples_split': [2,3,4,5]\n",
    "\n",
    "You should come up with 48 (2 x 6 x 4) combinations. \n",
    "What is the best configuration for the data set and the classification approach?\n"
   ]
  },
  {
   "cell_type": "code",
   "execution_count": 73,
   "metadata": {},
   "outputs": [
    {
     "name": "stdout",
     "output_type": "stream",
     "text": [
      "Fitting 10 folds for each of 48 candidates, totalling 480 fits\n"
     ]
    },
    {
     "data": {
      "text/plain": [
       "GridSearchCV(cv=10,\n",
       "             estimator=Pipeline(steps=[('preprocessing',\n",
       "                                        ColumnTransformer(transformers=[('c',\n",
       "                                                                         OneHotEncoder(),\n",
       "                                                                         Index(['Attribute 1', 'Attribute 3', 'Attribute 4', 'Attribute 6',\n",
       "       'Attribute 7', 'Attribute 9', 'Attribute 10', 'Attribute 12',\n",
       "       'Attribute 14', 'Attribute 15', 'Attribute 17', 'Attribute 19',\n",
       "       'Attribute 20'],\n",
       "      dtype='object')),\n",
       "                                                                        ('n',\n",
       "                                                                         StandardScaler(),\n",
       "                                                                         Index(['Attribute 2', 'Attribute 5', 'Attribute 8', 'Attribute 11',\n",
       "       'Attribute 13', 'Attribute 16', 'Attribute 18'],\n",
       "      dtype='object'))])),\n",
       "                                       ('estimator',\n",
       "                                        DecisionTreeClassifier())]),\n",
       "             n_jobs=-1,\n",
       "             param_grid={'estimator__criterion': ['gini', 'entropy'],\n",
       "                         'estimator__max_depth': [1, 2, 3, 4, 5, None],\n",
       "                         'estimator__min_samples_split': [2, 3, 4, 5]},\n",
       "             verbose=1)"
      ]
     },
     "execution_count": 73,
     "metadata": {},
     "output_type": "execute_result"
    }
   ],
   "source": [
    "from sklearn.model_selection import GridSearchCV\n",
    "pipeline = Pipeline([ ('preprocessing', preprocessor), ('estimator', DecisionTreeClassifier()) ])\n",
    "pipeline.fit(X_train1,y_train1)\n",
    "# 지니계수:\n",
    "# 엔트로피: \n",
    "param_dict = {\n",
    "\"estimator__criterion\":['gini','entropy'],\n",
    "    \"estimator__min_samples_split\":[2,3,4,5],\n",
    "    'estimator__max_depth': [1,2,3,4,5,None]\n",
    "}\n",
    "grid = GridSearchCV(pipeline,\n",
    "                   param_grid=param_dict,\n",
    "                   cv=10,\n",
    "                   verbose=1,\n",
    "                   n_jobs=-1)\n",
    "grid.fit(X_train1,y_train1)"
   ]
  },
  {
   "cell_type": "code",
   "execution_count": 143,
   "metadata": {
    "scrolled": true
   },
   "outputs": [
    {
     "data": {
      "text/html": [
       "<div>\n",
       "<style scoped>\n",
       "    .dataframe tbody tr th:only-of-type {\n",
       "        vertical-align: middle;\n",
       "    }\n",
       "\n",
       "    .dataframe tbody tr th {\n",
       "        vertical-align: top;\n",
       "    }\n",
       "\n",
       "    .dataframe thead th {\n",
       "        text-align: right;\n",
       "    }\n",
       "</style>\n",
       "<table border=\"1\" class=\"dataframe\">\n",
       "  <thead>\n",
       "    <tr style=\"text-align: right;\">\n",
       "      <th></th>\n",
       "      <th>estimator__criterion</th>\n",
       "      <th>estimator__max_depth</th>\n",
       "      <th>estimator__min_samples_split</th>\n",
       "      <th>mean_test_score</th>\n",
       "    </tr>\n",
       "  </thead>\n",
       "  <tbody>\n",
       "    <tr>\n",
       "      <th>44</th>\n",
       "      <td>entropy</td>\n",
       "      <td>NaN</td>\n",
       "      <td>2</td>\n",
       "      <td>0.821429</td>\n",
       "    </tr>\n",
       "    <tr>\n",
       "      <th>20</th>\n",
       "      <td>gini</td>\n",
       "      <td>NaN</td>\n",
       "      <td>2</td>\n",
       "      <td>0.814286</td>\n",
       "    </tr>\n",
       "    <tr>\n",
       "      <th>21</th>\n",
       "      <td>gini</td>\n",
       "      <td>NaN</td>\n",
       "      <td>3</td>\n",
       "      <td>0.813393</td>\n",
       "    </tr>\n",
       "    <tr>\n",
       "      <th>45</th>\n",
       "      <td>entropy</td>\n",
       "      <td>NaN</td>\n",
       "      <td>3</td>\n",
       "      <td>0.810714</td>\n",
       "    </tr>\n",
       "    <tr>\n",
       "      <th>46</th>\n",
       "      <td>entropy</td>\n",
       "      <td>NaN</td>\n",
       "      <td>4</td>\n",
       "      <td>0.808929</td>\n",
       "    </tr>\n",
       "    <tr>\n",
       "      <th>22</th>\n",
       "      <td>gini</td>\n",
       "      <td>NaN</td>\n",
       "      <td>4</td>\n",
       "      <td>0.807143</td>\n",
       "    </tr>\n",
       "    <tr>\n",
       "      <th>47</th>\n",
       "      <td>entropy</td>\n",
       "      <td>NaN</td>\n",
       "      <td>5</td>\n",
       "      <td>0.803571</td>\n",
       "    </tr>\n",
       "    <tr>\n",
       "      <th>23</th>\n",
       "      <td>gini</td>\n",
       "      <td>NaN</td>\n",
       "      <td>5</td>\n",
       "      <td>0.797321</td>\n",
       "    </tr>\n",
       "    <tr>\n",
       "      <th>42</th>\n",
       "      <td>entropy</td>\n",
       "      <td>5.0</td>\n",
       "      <td>4</td>\n",
       "      <td>0.700000</td>\n",
       "    </tr>\n",
       "    <tr>\n",
       "      <th>43</th>\n",
       "      <td>entropy</td>\n",
       "      <td>5.0</td>\n",
       "      <td>5</td>\n",
       "      <td>0.700000</td>\n",
       "    </tr>\n",
       "    <tr>\n",
       "      <th>16</th>\n",
       "      <td>gini</td>\n",
       "      <td>5.0</td>\n",
       "      <td>2</td>\n",
       "      <td>0.699107</td>\n",
       "    </tr>\n",
       "    <tr>\n",
       "      <th>18</th>\n",
       "      <td>gini</td>\n",
       "      <td>5.0</td>\n",
       "      <td>4</td>\n",
       "      <td>0.699107</td>\n",
       "    </tr>\n",
       "    <tr>\n",
       "      <th>17</th>\n",
       "      <td>gini</td>\n",
       "      <td>5.0</td>\n",
       "      <td>3</td>\n",
       "      <td>0.699107</td>\n",
       "    </tr>\n",
       "    <tr>\n",
       "      <th>19</th>\n",
       "      <td>gini</td>\n",
       "      <td>5.0</td>\n",
       "      <td>5</td>\n",
       "      <td>0.697321</td>\n",
       "    </tr>\n",
       "    <tr>\n",
       "      <th>41</th>\n",
       "      <td>entropy</td>\n",
       "      <td>5.0</td>\n",
       "      <td>3</td>\n",
       "      <td>0.697321</td>\n",
       "    </tr>\n",
       "    <tr>\n",
       "      <th>40</th>\n",
       "      <td>entropy</td>\n",
       "      <td>5.0</td>\n",
       "      <td>2</td>\n",
       "      <td>0.694643</td>\n",
       "    </tr>\n",
       "    <tr>\n",
       "      <th>32</th>\n",
       "      <td>entropy</td>\n",
       "      <td>3.0</td>\n",
       "      <td>2</td>\n",
       "      <td>0.690179</td>\n",
       "    </tr>\n",
       "    <tr>\n",
       "      <th>35</th>\n",
       "      <td>entropy</td>\n",
       "      <td>3.0</td>\n",
       "      <td>5</td>\n",
       "      <td>0.690179</td>\n",
       "    </tr>\n",
       "    <tr>\n",
       "      <th>34</th>\n",
       "      <td>entropy</td>\n",
       "      <td>3.0</td>\n",
       "      <td>4</td>\n",
       "      <td>0.690179</td>\n",
       "    </tr>\n",
       "    <tr>\n",
       "      <th>33</th>\n",
       "      <td>entropy</td>\n",
       "      <td>3.0</td>\n",
       "      <td>3</td>\n",
       "      <td>0.690179</td>\n",
       "    </tr>\n",
       "    <tr>\n",
       "      <th>11</th>\n",
       "      <td>gini</td>\n",
       "      <td>3.0</td>\n",
       "      <td>5</td>\n",
       "      <td>0.686607</td>\n",
       "    </tr>\n",
       "    <tr>\n",
       "      <th>8</th>\n",
       "      <td>gini</td>\n",
       "      <td>3.0</td>\n",
       "      <td>2</td>\n",
       "      <td>0.686607</td>\n",
       "    </tr>\n",
       "    <tr>\n",
       "      <th>10</th>\n",
       "      <td>gini</td>\n",
       "      <td>3.0</td>\n",
       "      <td>4</td>\n",
       "      <td>0.686607</td>\n",
       "    </tr>\n",
       "    <tr>\n",
       "      <th>9</th>\n",
       "      <td>gini</td>\n",
       "      <td>3.0</td>\n",
       "      <td>3</td>\n",
       "      <td>0.686607</td>\n",
       "    </tr>\n",
       "    <tr>\n",
       "      <th>13</th>\n",
       "      <td>gini</td>\n",
       "      <td>4.0</td>\n",
       "      <td>3</td>\n",
       "      <td>0.683036</td>\n",
       "    </tr>\n",
       "    <tr>\n",
       "      <th>15</th>\n",
       "      <td>gini</td>\n",
       "      <td>4.0</td>\n",
       "      <td>5</td>\n",
       "      <td>0.683036</td>\n",
       "    </tr>\n",
       "    <tr>\n",
       "      <th>14</th>\n",
       "      <td>gini</td>\n",
       "      <td>4.0</td>\n",
       "      <td>4</td>\n",
       "      <td>0.682143</td>\n",
       "    </tr>\n",
       "    <tr>\n",
       "      <th>12</th>\n",
       "      <td>gini</td>\n",
       "      <td>4.0</td>\n",
       "      <td>2</td>\n",
       "      <td>0.682143</td>\n",
       "    </tr>\n",
       "    <tr>\n",
       "      <th>39</th>\n",
       "      <td>entropy</td>\n",
       "      <td>4.0</td>\n",
       "      <td>5</td>\n",
       "      <td>0.680357</td>\n",
       "    </tr>\n",
       "    <tr>\n",
       "      <th>38</th>\n",
       "      <td>entropy</td>\n",
       "      <td>4.0</td>\n",
       "      <td>4</td>\n",
       "      <td>0.679464</td>\n",
       "    </tr>\n",
       "    <tr>\n",
       "      <th>36</th>\n",
       "      <td>entropy</td>\n",
       "      <td>4.0</td>\n",
       "      <td>2</td>\n",
       "      <td>0.678571</td>\n",
       "    </tr>\n",
       "    <tr>\n",
       "      <th>37</th>\n",
       "      <td>entropy</td>\n",
       "      <td>4.0</td>\n",
       "      <td>3</td>\n",
       "      <td>0.678571</td>\n",
       "    </tr>\n",
       "    <tr>\n",
       "      <th>4</th>\n",
       "      <td>gini</td>\n",
       "      <td>2.0</td>\n",
       "      <td>2</td>\n",
       "      <td>0.666071</td>\n",
       "    </tr>\n",
       "    <tr>\n",
       "      <th>5</th>\n",
       "      <td>gini</td>\n",
       "      <td>2.0</td>\n",
       "      <td>3</td>\n",
       "      <td>0.666071</td>\n",
       "    </tr>\n",
       "    <tr>\n",
       "      <th>6</th>\n",
       "      <td>gini</td>\n",
       "      <td>2.0</td>\n",
       "      <td>4</td>\n",
       "      <td>0.666071</td>\n",
       "    </tr>\n",
       "    <tr>\n",
       "      <th>7</th>\n",
       "      <td>gini</td>\n",
       "      <td>2.0</td>\n",
       "      <td>5</td>\n",
       "      <td>0.666071</td>\n",
       "    </tr>\n",
       "    <tr>\n",
       "      <th>29</th>\n",
       "      <td>entropy</td>\n",
       "      <td>2.0</td>\n",
       "      <td>3</td>\n",
       "      <td>0.664286</td>\n",
       "    </tr>\n",
       "    <tr>\n",
       "      <th>30</th>\n",
       "      <td>entropy</td>\n",
       "      <td>2.0</td>\n",
       "      <td>4</td>\n",
       "      <td>0.664286</td>\n",
       "    </tr>\n",
       "    <tr>\n",
       "      <th>31</th>\n",
       "      <td>entropy</td>\n",
       "      <td>2.0</td>\n",
       "      <td>5</td>\n",
       "      <td>0.664286</td>\n",
       "    </tr>\n",
       "    <tr>\n",
       "      <th>28</th>\n",
       "      <td>entropy</td>\n",
       "      <td>2.0</td>\n",
       "      <td>2</td>\n",
       "      <td>0.664286</td>\n",
       "    </tr>\n",
       "    <tr>\n",
       "      <th>0</th>\n",
       "      <td>gini</td>\n",
       "      <td>1.0</td>\n",
       "      <td>2</td>\n",
       "      <td>0.655357</td>\n",
       "    </tr>\n",
       "    <tr>\n",
       "      <th>27</th>\n",
       "      <td>entropy</td>\n",
       "      <td>1.0</td>\n",
       "      <td>5</td>\n",
       "      <td>0.655357</td>\n",
       "    </tr>\n",
       "    <tr>\n",
       "      <th>26</th>\n",
       "      <td>entropy</td>\n",
       "      <td>1.0</td>\n",
       "      <td>4</td>\n",
       "      <td>0.655357</td>\n",
       "    </tr>\n",
       "    <tr>\n",
       "      <th>25</th>\n",
       "      <td>entropy</td>\n",
       "      <td>1.0</td>\n",
       "      <td>3</td>\n",
       "      <td>0.655357</td>\n",
       "    </tr>\n",
       "    <tr>\n",
       "      <th>1</th>\n",
       "      <td>gini</td>\n",
       "      <td>1.0</td>\n",
       "      <td>3</td>\n",
       "      <td>0.655357</td>\n",
       "    </tr>\n",
       "    <tr>\n",
       "      <th>3</th>\n",
       "      <td>gini</td>\n",
       "      <td>1.0</td>\n",
       "      <td>5</td>\n",
       "      <td>0.655357</td>\n",
       "    </tr>\n",
       "    <tr>\n",
       "      <th>2</th>\n",
       "      <td>gini</td>\n",
       "      <td>1.0</td>\n",
       "      <td>4</td>\n",
       "      <td>0.655357</td>\n",
       "    </tr>\n",
       "    <tr>\n",
       "      <th>24</th>\n",
       "      <td>entropy</td>\n",
       "      <td>1.0</td>\n",
       "      <td>2</td>\n",
       "      <td>0.655357</td>\n",
       "    </tr>\n",
       "  </tbody>\n",
       "</table>\n",
       "</div>"
      ],
      "text/plain": [
       "   estimator__criterion  estimator__max_depth  estimator__min_samples_split  \\\n",
       "44              entropy                   NaN                             2   \n",
       "20                 gini                   NaN                             2   \n",
       "21                 gini                   NaN                             3   \n",
       "45              entropy                   NaN                             3   \n",
       "46              entropy                   NaN                             4   \n",
       "22                 gini                   NaN                             4   \n",
       "47              entropy                   NaN                             5   \n",
       "23                 gini                   NaN                             5   \n",
       "42              entropy                   5.0                             4   \n",
       "43              entropy                   5.0                             5   \n",
       "16                 gini                   5.0                             2   \n",
       "18                 gini                   5.0                             4   \n",
       "17                 gini                   5.0                             3   \n",
       "19                 gini                   5.0                             5   \n",
       "41              entropy                   5.0                             3   \n",
       "40              entropy                   5.0                             2   \n",
       "32              entropy                   3.0                             2   \n",
       "35              entropy                   3.0                             5   \n",
       "34              entropy                   3.0                             4   \n",
       "33              entropy                   3.0                             3   \n",
       "11                 gini                   3.0                             5   \n",
       "8                  gini                   3.0                             2   \n",
       "10                 gini                   3.0                             4   \n",
       "9                  gini                   3.0                             3   \n",
       "13                 gini                   4.0                             3   \n",
       "15                 gini                   4.0                             5   \n",
       "14                 gini                   4.0                             4   \n",
       "12                 gini                   4.0                             2   \n",
       "39              entropy                   4.0                             5   \n",
       "38              entropy                   4.0                             4   \n",
       "36              entropy                   4.0                             2   \n",
       "37              entropy                   4.0                             3   \n",
       "4                  gini                   2.0                             2   \n",
       "5                  gini                   2.0                             3   \n",
       "6                  gini                   2.0                             4   \n",
       "7                  gini                   2.0                             5   \n",
       "29              entropy                   2.0                             3   \n",
       "30              entropy                   2.0                             4   \n",
       "31              entropy                   2.0                             5   \n",
       "28              entropy                   2.0                             2   \n",
       "0                  gini                   1.0                             2   \n",
       "27              entropy                   1.0                             5   \n",
       "26              entropy                   1.0                             4   \n",
       "25              entropy                   1.0                             3   \n",
       "1                  gini                   1.0                             3   \n",
       "3                  gini                   1.0                             5   \n",
       "2                  gini                   1.0                             4   \n",
       "24              entropy                   1.0                             2   \n",
       "\n",
       "    mean_test_score  \n",
       "44         0.821429  \n",
       "20         0.814286  \n",
       "21         0.813393  \n",
       "45         0.810714  \n",
       "46         0.808929  \n",
       "22         0.807143  \n",
       "47         0.803571  \n",
       "23         0.797321  \n",
       "42         0.700000  \n",
       "43         0.700000  \n",
       "16         0.699107  \n",
       "18         0.699107  \n",
       "17         0.699107  \n",
       "19         0.697321  \n",
       "41         0.697321  \n",
       "40         0.694643  \n",
       "32         0.690179  \n",
       "35         0.690179  \n",
       "34         0.690179  \n",
       "33         0.690179  \n",
       "11         0.686607  \n",
       "8          0.686607  \n",
       "10         0.686607  \n",
       "9          0.686607  \n",
       "13         0.683036  \n",
       "15         0.683036  \n",
       "14         0.682143  \n",
       "12         0.682143  \n",
       "39         0.680357  \n",
       "38         0.679464  \n",
       "36         0.678571  \n",
       "37         0.678571  \n",
       "4          0.666071  \n",
       "5          0.666071  \n",
       "6          0.666071  \n",
       "7          0.666071  \n",
       "29         0.664286  \n",
       "30         0.664286  \n",
       "31         0.664286  \n",
       "28         0.664286  \n",
       "0          0.655357  \n",
       "27         0.655357  \n",
       "26         0.655357  \n",
       "25         0.655357  \n",
       "1          0.655357  \n",
       "3          0.655357  \n",
       "2          0.655357  \n",
       "24         0.655357  "
      ]
     },
     "execution_count": 143,
     "metadata": {},
     "output_type": "execute_result"
    }
   ],
   "source": [
    "result = pd.DataFrame(grid.cv_results_['params'])\n",
    "result['mean_test_score'] = grid.cv_results_['mean_test_score']\n",
    "result.sort_values(by='mean_test_score', ascending=False)"
   ]
  },
  {
   "cell_type": "markdown",
   "metadata": {},
   "source": [
    "위의 표에서 index는 0부터 47까지로 총 48개의 데이터가 존재한다.\n",
    "<p>최대값은 entropy를 사용하고 max_depth: None, min_sample_split: 2를 가지고 있는 0.821이다."
   ]
  },
  {
   "cell_type": "markdown",
   "metadata": {},
   "source": [
    "### 3.3. What is the cost of misclassification for this configuration?"
   ]
  },
  {
   "cell_type": "code",
   "execution_count": 141,
   "metadata": {},
   "outputs": [
    {
     "name": "stdout",
     "output_type": "stream",
     "text": [
      "DecisionTreeClassifier with accuracy of 0.94 and cost 13033\n"
     ]
    }
   ],
   "source": [
    "best_grid = grid.best_estimator_\n",
    "prediction = cross_val_predict(best_grid, X_train, y_train, cv=10)\n",
    "\n",
    "predY = best_grid.predict(X_test)\n",
    "accuracy_score(y_test,predY)\n",
    "cm = confusion_matrix(y_train, prediction)\n",
    "cost = cm[0][1] * 100 + cm[1][0] * 1\n",
    "acc = accuracy_score(y_test, predY)\n",
    "print(\"DecisionTreeClassifier with accuracy of {} and cost {}\".format(acc, cost))"
   ]
  },
  {
   "cell_type": "markdown",
   "metadata": {},
   "source": [
    "### 3.4. How does the optimal decision tree differ from the one you have learned in Question 2.4"
   ]
  },
  {
   "cell_type": "markdown",
   "metadata": {},
   "source": [
    "Question 2.4에서의 의사결정나무는 14439의 오분류률과 0.843의 예측 정확도를 보여주었는데,\n",
    "최적의 의사결정나무에서는 13033의 오분류률과 0.94의 예측 정확도를 보여주었다.\n",
    "따라서, 최적의 의사결정나무의 정확도가 더 높게 나오고, 오분류률또한 더 적다는 것을 알 수 있다."
   ]
  }
 ],
 "metadata": {
  "celltoolbar": "Slideshow",
  "kernelspec": {
   "display_name": "Python 3",
   "language": "python",
   "name": "python3"
  },
  "language_info": {
   "codemirror_mode": {
    "name": "ipython",
    "version": 3
   },
   "file_extension": ".py",
   "mimetype": "text/x-python",
   "name": "python",
   "nbconvert_exporter": "python",
   "pygments_lexer": "ipython3",
   "version": "3.7.3"
  }
 },
 "nbformat": 4,
 "nbformat_minor": 2
}
