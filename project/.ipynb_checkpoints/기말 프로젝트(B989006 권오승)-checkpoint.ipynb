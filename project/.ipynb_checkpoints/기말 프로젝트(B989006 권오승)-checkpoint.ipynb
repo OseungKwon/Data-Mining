{
 "cells": [
  {
   "cell_type": "markdown",
   "metadata": {},
   "source": [
    "# Data Mining 기말 프로젝트\n",
    "## B989006 권오승\n",
    "\n",
    "#### 사용 데이터: winequality-red.csv\n",
    "#### 문제 형식: 분류\n",
    "#### 사용 알고리즘: KNN, Decision Trees, Naive Bayes, SVM, Random Forest"
   ]
  },
  {
   "cell_type": "code",
   "execution_count": 1,
   "metadata": {},
   "outputs": [
    {
     "data": {
      "text/html": [
       "<div>\n",
       "<style scoped>\n",
       "    .dataframe tbody tr th:only-of-type {\n",
       "        vertical-align: middle;\n",
       "    }\n",
       "\n",
       "    .dataframe tbody tr th {\n",
       "        vertical-align: top;\n",
       "    }\n",
       "\n",
       "    .dataframe thead th {\n",
       "        text-align: right;\n",
       "    }\n",
       "</style>\n",
       "<table border=\"1\" class=\"dataframe\">\n",
       "  <thead>\n",
       "    <tr style=\"text-align: right;\">\n",
       "      <th></th>\n",
       "      <th>fixed acidity</th>\n",
       "      <th>volatile acidity</th>\n",
       "      <th>citric acid</th>\n",
       "      <th>residual sugar</th>\n",
       "      <th>chlorides</th>\n",
       "      <th>free sulfur dioxide</th>\n",
       "      <th>total sulfur dioxide</th>\n",
       "      <th>density</th>\n",
       "      <th>pH</th>\n",
       "      <th>sulphates</th>\n",
       "      <th>alcohol</th>\n",
       "      <th>quality</th>\n",
       "    </tr>\n",
       "  </thead>\n",
       "  <tbody>\n",
       "    <tr>\n",
       "      <th>0</th>\n",
       "      <td>7.4</td>\n",
       "      <td>0.70</td>\n",
       "      <td>0.00</td>\n",
       "      <td>1.9</td>\n",
       "      <td>0.076</td>\n",
       "      <td>11.0</td>\n",
       "      <td>34.0</td>\n",
       "      <td>0.9978</td>\n",
       "      <td>3.51</td>\n",
       "      <td>0.56</td>\n",
       "      <td>9.4</td>\n",
       "      <td>5</td>\n",
       "    </tr>\n",
       "    <tr>\n",
       "      <th>1</th>\n",
       "      <td>7.8</td>\n",
       "      <td>0.88</td>\n",
       "      <td>0.00</td>\n",
       "      <td>2.6</td>\n",
       "      <td>0.098</td>\n",
       "      <td>25.0</td>\n",
       "      <td>67.0</td>\n",
       "      <td>0.9968</td>\n",
       "      <td>3.20</td>\n",
       "      <td>0.68</td>\n",
       "      <td>9.8</td>\n",
       "      <td>5</td>\n",
       "    </tr>\n",
       "    <tr>\n",
       "      <th>2</th>\n",
       "      <td>7.8</td>\n",
       "      <td>0.76</td>\n",
       "      <td>0.04</td>\n",
       "      <td>2.3</td>\n",
       "      <td>0.092</td>\n",
       "      <td>15.0</td>\n",
       "      <td>54.0</td>\n",
       "      <td>0.9970</td>\n",
       "      <td>3.26</td>\n",
       "      <td>0.65</td>\n",
       "      <td>9.8</td>\n",
       "      <td>5</td>\n",
       "    </tr>\n",
       "    <tr>\n",
       "      <th>3</th>\n",
       "      <td>11.2</td>\n",
       "      <td>0.28</td>\n",
       "      <td>0.56</td>\n",
       "      <td>1.9</td>\n",
       "      <td>0.075</td>\n",
       "      <td>17.0</td>\n",
       "      <td>60.0</td>\n",
       "      <td>0.9980</td>\n",
       "      <td>3.16</td>\n",
       "      <td>0.58</td>\n",
       "      <td>9.8</td>\n",
       "      <td>6</td>\n",
       "    </tr>\n",
       "    <tr>\n",
       "      <th>4</th>\n",
       "      <td>7.4</td>\n",
       "      <td>0.70</td>\n",
       "      <td>0.00</td>\n",
       "      <td>1.9</td>\n",
       "      <td>0.076</td>\n",
       "      <td>11.0</td>\n",
       "      <td>34.0</td>\n",
       "      <td>0.9978</td>\n",
       "      <td>3.51</td>\n",
       "      <td>0.56</td>\n",
       "      <td>9.4</td>\n",
       "      <td>5</td>\n",
       "    </tr>\n",
       "  </tbody>\n",
       "</table>\n",
       "</div>"
      ],
      "text/plain": [
       "   fixed acidity  volatile acidity  citric acid  residual sugar  chlorides  \\\n",
       "0            7.4              0.70         0.00             1.9      0.076   \n",
       "1            7.8              0.88         0.00             2.6      0.098   \n",
       "2            7.8              0.76         0.04             2.3      0.092   \n",
       "3           11.2              0.28         0.56             1.9      0.075   \n",
       "4            7.4              0.70         0.00             1.9      0.076   \n",
       "\n",
       "   free sulfur dioxide  total sulfur dioxide  density    pH  sulphates  \\\n",
       "0                 11.0                  34.0   0.9978  3.51       0.56   \n",
       "1                 25.0                  67.0   0.9968  3.20       0.68   \n",
       "2                 15.0                  54.0   0.9970  3.26       0.65   \n",
       "3                 17.0                  60.0   0.9980  3.16       0.58   \n",
       "4                 11.0                  34.0   0.9978  3.51       0.56   \n",
       "\n",
       "   alcohol  quality  \n",
       "0      9.4        5  \n",
       "1      9.8        5  \n",
       "2      9.8        5  \n",
       "3      9.8        6  \n",
       "4      9.4        5  "
      ]
     },
     "execution_count": 1,
     "metadata": {},
     "output_type": "execute_result"
    }
   ],
   "source": [
    "import pandas as pd\n",
    "import numpy as np\n",
    "from sklearn.neighbors import KNeighborsClassifier\n",
    "from sklearn.metrics import accuracy_score\n",
    "from sklearn.datasets import make_classification\n",
    "from sklearn.model_selection import train_test_split\n",
    "from sklearn.model_selection import cross_val_score\n",
    "from sklearn.neighbors import KNeighborsClassifier\n",
    "from sklearn.tree import DecisionTreeClassifier\n",
    "from sklearn.naive_bayes import GaussianNB\n",
    "from sklearn.metrics import roc_curve, auc\n",
    "from sklearn.svm import SVC\n",
    "import seaborn as sns\n",
    "from tqdm import tqdm\n",
    "import matplotlib.pyplot as plt\n",
    "from sklearn.model_selection import KFold\n",
    "\n",
    "from sklearn.model_selection import StratifiedKFold\n",
    "\n",
    "data = pd.read_csv('winequality-red.csv',sep=';')\n",
    "data.head()"
   ]
  },
  {
   "cell_type": "code",
   "execution_count": 2,
   "metadata": {},
   "outputs": [
    {
     "data": {
      "text/plain": [
       "<AxesSubplot:>"
      ]
     },
     "execution_count": 2,
     "metadata": {},
     "output_type": "execute_result"
    },
    {
     "data": {
      "image/png": "[encoded data removed]",
      "text/plain": [
       "<Figure size 1080x720 with 2 Axes>"
      ]
     },
     "metadata": {
      "needs_background": "light"
     },
     "output_type": "display_data"
    }
   ],
   "source": [
    "corr = data.corr()\n",
    "plt.subplots(figsize=(15,10))\n",
    "sns.heatmap(corr, xticklabels=corr.columns, yticklabels=corr.columns, annot=True, cmap=sns.diverging_palette(220, 20, as_cmap=True))"
   ]
  },
  {
   "cell_type": "markdown",
   "metadata": {},
   "source": [
    "우선, quality와 관련있는 변수들의 상관관계를 파악하기 위해 plot를 만들었다.\n",
    "quality와 관련도가 높은 데이터는 alcohol, sulphates, citric acid이다.\n",
    "\n",
    "데이터를 분류하기 위해서 quality가 7 이상인 데이터들은 모두 1, 그렇지 않은 데이터들은 0으로 바꾸어 주었다.\n",
    "target 데이터의 분포는 다음과 같다"
   ]
  },
  {
   "cell_type": "code",
   "execution_count": 3,
   "metadata": {},
   "outputs": [
    {
     "data": {
      "text/plain": [
       "0    1382\n",
       "1     217\n",
       "Name: quality1, dtype: int64"
      ]
     },
     "execution_count": 3,
     "metadata": {},
     "output_type": "execute_result"
    }
   ],
   "source": [
    "data['quality1'] = [1 if x >= 7 else 0 for x in data['quality']]\n",
    "data.quality1.value_counts()"
   ]
  },
  {
   "cell_type": "code",
   "execution_count": 4,
   "metadata": {},
   "outputs": [
    {
     "data": {
      "text/html": [
       "<div>\n",
       "<style scoped>\n",
       "    .dataframe tbody tr th:only-of-type {\n",
       "        vertical-align: middle;\n",
       "    }\n",
       "\n",
       "    .dataframe tbody tr th {\n",
       "        vertical-align: top;\n",
       "    }\n",
       "\n",
       "    .dataframe thead th {\n",
       "        text-align: right;\n",
       "    }\n",
       "</style>\n",
       "<table border=\"1\" class=\"dataframe\">\n",
       "  <thead>\n",
       "    <tr style=\"text-align: right;\">\n",
       "      <th></th>\n",
       "      <th>fixed acidity</th>\n",
       "      <th>volatile acidity</th>\n",
       "      <th>citric acid</th>\n",
       "      <th>residual sugar</th>\n",
       "      <th>chlorides</th>\n",
       "      <th>free sulfur dioxide</th>\n",
       "      <th>total sulfur dioxide</th>\n",
       "      <th>density</th>\n",
       "      <th>pH</th>\n",
       "      <th>sulphates</th>\n",
       "      <th>alcohol</th>\n",
       "    </tr>\n",
       "  </thead>\n",
       "  <tbody>\n",
       "    <tr>\n",
       "      <th>0</th>\n",
       "      <td>7.4</td>\n",
       "      <td>0.70</td>\n",
       "      <td>0.00</td>\n",
       "      <td>1.9</td>\n",
       "      <td>0.076</td>\n",
       "      <td>11.0</td>\n",
       "      <td>34.0</td>\n",
       "      <td>0.9978</td>\n",
       "      <td>3.51</td>\n",
       "      <td>0.56</td>\n",
       "      <td>9.4</td>\n",
       "    </tr>\n",
       "    <tr>\n",
       "      <th>1</th>\n",
       "      <td>7.8</td>\n",
       "      <td>0.88</td>\n",
       "      <td>0.00</td>\n",
       "      <td>2.6</td>\n",
       "      <td>0.098</td>\n",
       "      <td>25.0</td>\n",
       "      <td>67.0</td>\n",
       "      <td>0.9968</td>\n",
       "      <td>3.20</td>\n",
       "      <td>0.68</td>\n",
       "      <td>9.8</td>\n",
       "    </tr>\n",
       "    <tr>\n",
       "      <th>2</th>\n",
       "      <td>7.8</td>\n",
       "      <td>0.76</td>\n",
       "      <td>0.04</td>\n",
       "      <td>2.3</td>\n",
       "      <td>0.092</td>\n",
       "      <td>15.0</td>\n",
       "      <td>54.0</td>\n",
       "      <td>0.9970</td>\n",
       "      <td>3.26</td>\n",
       "      <td>0.65</td>\n",
       "      <td>9.8</td>\n",
       "    </tr>\n",
       "    <tr>\n",
       "      <th>3</th>\n",
       "      <td>11.2</td>\n",
       "      <td>0.28</td>\n",
       "      <td>0.56</td>\n",
       "      <td>1.9</td>\n",
       "      <td>0.075</td>\n",
       "      <td>17.0</td>\n",
       "      <td>60.0</td>\n",
       "      <td>0.9980</td>\n",
       "      <td>3.16</td>\n",
       "      <td>0.58</td>\n",
       "      <td>9.8</td>\n",
       "    </tr>\n",
       "    <tr>\n",
       "      <th>4</th>\n",
       "      <td>7.4</td>\n",
       "      <td>0.70</td>\n",
       "      <td>0.00</td>\n",
       "      <td>1.9</td>\n",
       "      <td>0.076</td>\n",
       "      <td>11.0</td>\n",
       "      <td>34.0</td>\n",
       "      <td>0.9978</td>\n",
       "      <td>3.51</td>\n",
       "      <td>0.56</td>\n",
       "      <td>9.4</td>\n",
       "    </tr>\n",
       "  </tbody>\n",
       "</table>\n",
       "</div>"
      ],
      "text/plain": [
       "   fixed acidity  volatile acidity  citric acid  residual sugar  chlorides  \\\n",
       "0            7.4              0.70         0.00             1.9      0.076   \n",
       "1            7.8              0.88         0.00             2.6      0.098   \n",
       "2            7.8              0.76         0.04             2.3      0.092   \n",
       "3           11.2              0.28         0.56             1.9      0.075   \n",
       "4            7.4              0.70         0.00             1.9      0.076   \n",
       "\n",
       "   free sulfur dioxide  total sulfur dioxide  density    pH  sulphates  \\\n",
       "0                 11.0                  34.0   0.9978  3.51       0.56   \n",
       "1                 25.0                  67.0   0.9968  3.20       0.68   \n",
       "2                 15.0                  54.0   0.9970  3.26       0.65   \n",
       "3                 17.0                  60.0   0.9980  3.16       0.58   \n",
       "4                 11.0                  34.0   0.9978  3.51       0.56   \n",
       "\n",
       "   alcohol  \n",
       "0      9.4  \n",
       "1      9.8  \n",
       "2      9.8  \n",
       "3      9.8  \n",
       "4      9.4  "
      ]
     },
     "execution_count": 4,
     "metadata": {},
     "output_type": "execute_result"
    }
   ],
   "source": [
    "feature = data.drop(['quality','quality1'],axis=1)\n",
    "quality = data['quality1']\n",
    "feature.head()"
   ]
  },
  {
   "cell_type": "code",
   "execution_count": 5,
   "metadata": {},
   "outputs": [
    {
     "data": {
      "text/plain": [
       "0    1105\n",
       "1     174\n",
       "Name: quality1, dtype: int64"
      ]
     },
     "execution_count": 5,
     "metadata": {},
     "output_type": "execute_result"
    }
   ],
   "source": [
    "X_train, X_test, y_train, y_test = train_test_split(feature,quality,stratify=quality,test_size=0.2,random_state=1)\n",
    "y_train.value_counts()"
   ]
  },
  {
   "cell_type": "markdown",
   "metadata": {},
   "source": [
    "## 각각의 알고리즘을 사용했을 때 나오는 정확도"
   ]
  },
  {
   "cell_type": "code",
   "execution_count": 6,
   "metadata": {},
   "outputs": [],
   "source": [
    "from sklearn.metrics import accuracy_score\n",
    "from sklearn.model_selection import cross_val_score\n",
    "kfold = KFold(n_splits=5, shuffle=True, random_state=0)\n"
   ]
  },
  {
   "cell_type": "markdown",
   "metadata": {},
   "source": [
    "#### SVM accuracy"
   ]
  },
  {
   "cell_type": "code",
   "execution_count": 7,
   "metadata": {},
   "outputs": [
    {
     "name": "stdout",
     "output_type": "stream",
     "text": [
      "SVM accuracy:  0.8639460784313725\n"
     ]
    }
   ],
   "source": [
    "model = SVC()\n",
    "scores = cross_val_score(model, X_train, y_train, scoring='accuracy', cv=kfold)\n",
    "model.fit(X_train,y_train)\n",
    "\n",
    "predY = model.predict(X_test)\n",
    "print('SVM accuracy: ', scores.mean())"
   ]
  },
  {
   "cell_type": "markdown",
   "metadata": {},
   "source": [
    "#### Naive Bayes accuracy"
   ]
  },
  {
   "cell_type": "code",
   "execution_count": 8,
   "metadata": {},
   "outputs": [
    {
     "name": "stdout",
     "output_type": "stream",
     "text": [
      "Naive Bayes accuracy:  0.8279993872549019\n"
     ]
    }
   ],
   "source": [
    "model = GaussianNB()\n",
    "scores = cross_val_score(model, X_train, y_train, scoring='accuracy', cv=kfold)\n",
    "model.fit(X_train,y_train)\n",
    "\n",
    "predY = model.predict(X_test)\n",
    "print('Naive Bayes accuracy: ', scores.mean())"
   ]
  },
  {
   "cell_type": "markdown",
   "metadata": {},
   "source": [
    "#### 19-NN accuracy"
   ]
  },
  {
   "cell_type": "code",
   "execution_count": 9,
   "metadata": {},
   "outputs": [
    {
     "name": "stdout",
     "output_type": "stream",
     "text": [
      "Naive Bayes accuracy:  0.8483057598039215\n"
     ]
    }
   ],
   "source": [
    "model = KNeighborsClassifier()\n",
    "scores = cross_val_score(model, X_train, y_train, scoring='accuracy', cv=kfold)\n",
    "model.fit(X_train,y_train)\n",
    "\n",
    "predY = model.predict(X_test)\n",
    "print('Naive Bayes accuracy: ', scores.mean())"
   ]
  },
  {
   "cell_type": "markdown",
   "metadata": {},
   "source": [
    "#### Decision Tree accuracy"
   ]
  },
  {
   "cell_type": "code",
   "execution_count": 10,
   "metadata": {},
   "outputs": [
    {
     "name": "stdout",
     "output_type": "stream",
     "text": [
      "Decision Tree accuracy:  0.8569270833333335\n"
     ]
    }
   ],
   "source": [
    "model = DecisionTreeClassifier()\n",
    "scores = cross_val_score(model, X_train, y_train, scoring='accuracy', cv=kfold)\n",
    "model.fit(X_train,y_train)\n",
    "\n",
    "predY = model.predict(X_test)\n",
    "print('Decision Tree accuracy: ', scores.mean())"
   ]
  },
  {
   "cell_type": "markdown",
   "metadata": {},
   "source": [
    "위 그래프를 통해 \n",
    "KNN > SVM > Decision Tree > Navie Bayes  순으로 ROC가 크다는 것을 확인할 수 있다."
   ]
  },
  {
   "cell_type": "markdown",
   "metadata": {},
   "source": [
    "## 각각의 알고리즘을 사용했을 때 나오는 ROC curve\n",
    "ROC curve는 보통 binary classification, medical application에서 주로 쓰이는 성능 척도로, accuracy의 단점을 보안하는 성능 척도이다.\n",
    "<p> accuracy는 클래스별 분포가 같을 때만 사용하는데, \n",
    "<p> quality가 좋은 와인이 217병, 좋지 않은 와인이 1382병 이므로 클래스별 분포가 극심해 accuracy보다는 ROC curve를 통해 성능을 측정하는 것이 더 바람직하다."
   ]
  },
  {
   "cell_type": "code",
   "execution_count": 12,
   "metadata": {},
   "outputs": [
    {
     "data": {
      "image/png": "[encoded data removed]",
      "text/plain": [
       "<Figure size 432x288 with 1 Axes>"
      ]
     },
     "metadata": {
      "needs_background": "light"
     },
     "output_type": "display_data"
    }
   ],
   "source": [
    "from sklearn.metrics import roc_auc_score\n",
    "def plot_roc(model,color,label):\n",
    "    model.fit(X_train,y_train)\n",
    "    prob = model.predict_proba(X_test)\n",
    "    prob = prob[:, 1]\n",
    "    fper, tper, thresholds = roc_curve(y_test, prob)\n",
    "    roc_score = roc_auc_score(y_test, prob)\n",
    "    plt.plot(fper, tper, color=color, label='{0} (AUC: {1:.3f})'.format(label,roc_score))\n",
    "\n",
    "\n",
    "# Decision Tree\n",
    "model = DecisionTreeClassifier(random_state=1124)\n",
    "plot_roc(model, 'blue','Decision Tree ROC')\n",
    "\n",
    "# KNN\n",
    "model = KNeighborsClassifier(n_neighbors = 19, p=2)\n",
    "plot_roc(model, 'green','KNN ROC')\n",
    "\n",
    "\n",
    "# Naive Bayes\n",
    "model = GaussianNB()\n",
    "plot_roc(model, 'orange','Naive Bayes')\n",
    "\n",
    "# SVM\n",
    "model = SVC(probability=True)\n",
    "plot_roc(model, 'purple','SVM ROC')\n",
    "\n",
    "plt.plot([0, 1], [0, 1], color='red', linestyle='--')\n",
    "plt.xlabel('False Positive Rate')\n",
    "plt.ylabel('True Positive Rate')\n",
    "plt.title('Receiver Operating Characteristic Curve')\n",
    "plt.legend()\n",
    "plt.show()"
   ]
  },
  {
   "cell_type": "markdown",
   "metadata": {},
   "source": [
    "위 그래프를 통해 \n",
    "SVM > Navie Bayes > KNN > Decision Tree 순으로 ROC가 크다는 것을 확인할 수 있다."
   ]
  },
  {
   "cell_type": "code",
   "execution_count": 13,
   "metadata": {},
   "outputs": [],
   "source": [
    "from collections import Counter\n",
    "from sklearn.metrics import confusion_matrix\n",
    "from sklearn.model_selection import cross_val_predict"
   ]
  },
  {
   "cell_type": "code",
   "execution_count": 14,
   "metadata": {},
   "outputs": [
    {
     "name": "stdout",
     "output_type": "stream",
     "text": [
      "Decision Tree predict accracy: 0.86875\n",
      "confusion matrix:\n",
      "[[1010   95]\n",
      " [  87   87]]\n",
      "\n",
      "\n",
      "KNN predict accracy: 0.875\n",
      "confusion matrix:\n",
      "[[1100    5]\n",
      " [ 168    6]]\n",
      "\n",
      "\n",
      "Naive Bayes predict accracy: 0.825\n",
      "confusion matrix:\n",
      "[[945 160]\n",
      " [ 60 114]]\n",
      "\n",
      "\n",
      "SVM predict accracy: 0.86875\n",
      "confusion matrix:\n",
      "[[1105    0]\n",
      " [ 174    0]]\n",
      "\n",
      "\n"
     ]
    }
   ],
   "source": [
    "def predict_accuracy(model):\n",
    "    model.fit(X_train,y_train)\n",
    "    prediction = cross_val_predict(model, X_train, y_train, cv=kfold)\n",
    "    predY = model.predict(X_test)\n",
    "    cm = confusion_matrix(y_train, prediction)\n",
    "    acc = accuracy_score(y_test, predY)\n",
    "    return acc,cm\n",
    "\n",
    "# Decision Tree\n",
    "model = DecisionTreeClassifier(random_state=1124)\n",
    "show = predict_accuracy(model)\n",
    "print('Decision Tree predict accracy: {}'.format(show[0]),'confusion matrix:',show[1],'\\n',sep='\\n')\n",
    "\n",
    "# KNN\n",
    "model = KNeighborsClassifier(n_neighbors = 19, p=2)\n",
    "show = predict_accuracy(model)\n",
    "print('KNN predict accracy: {}'.format(show[0]),'confusion matrix:',show[1],'\\n',sep='\\n')\n",
    "\n",
    "# Naive Bayes\n",
    "model = GaussianNB(priors=None, var_smoothing=1e-09)\n",
    "show = predict_accuracy(model)\n",
    "print('Naive Bayes predict accracy: {}'.format(show[0]),'confusion matrix:',show[1],'\\n',sep='\\n')\n",
    "\n",
    "#SVM\n",
    "model = SVC(probability=True)\n",
    "show = predict_accuracy(model)\n",
    "print('SVM predict accracy: {}'.format(show[0]),'confusion matrix:',show[1],'\\n',sep='\\n')"
   ]
  },
  {
   "cell_type": "markdown",
   "metadata": {},
   "source": [
    "## OverSampling\n",
    "오버 샘플링은 현재 분석하고 있는 데이터와 같이 불균형한 데이터를 분석할 때, 조금 더 정확히 학습시키기 위해 사용하는 기법이다.\n",
    "\n",
    "<p> 우선, 1: 1382, 0: 217이므로 데이터의 수가 너무 낮아지지 않게, undersampling 보다 oversampling을 사용했다. 이러한 oversampling 중에서도 여러 기법이 있어 이를 조사해 보았다.\n",
    "<p> - Random OverSampling: 기존에 존재하던 클래스들을 복제해 비율 맞추기\n",
    "<p> - SMOTE: 낮은 비율 클래스 데이터들의 최근접 이웃을 이용해 새로운 데이터 생성하기\n",
    "<p> - Borderine SMOTE: 기존의 SMOTE와 비슷하지만, 고립된 데이터는 SMOTE를 적용시키지 않는 방법\n",
    "<p> - ADASYN: 가중치를 통해 SMOTE를 적용\n",
    "    \n",
    "#### 이 중, SMOTE, ADASYN, Random OverSampling 기법을 사용했다."
   ]
  },
  {
   "cell_type": "code",
   "execution_count": 17,
   "metadata": {},
   "outputs": [
    {
     "name": "stdout",
     "output_type": "stream",
     "text": [
      "Requirement already satisfied: imblearn in e:\\new\\lib\\site-packages (0.0)"
     ]
    },
    {
     "data": {
      "text/plain": [
       "0    1105\n",
       "1     174\n",
       "Name: quality1, dtype: int64"
      ]
     },
     "execution_count": 17,
     "metadata": {},
     "output_type": "execute_result"
    },
    {
     "name": "stdout",
     "output_type": "stream",
     "text": [
      "\n",
      "Requirement already satisfied: imbalanced-learn in e:\\new\\lib\\site-packages (from imblearn) (0.8.1)\n",
      "Requirement already satisfied: scikit-learn>=0.24 in e:\\new\\lib\\site-packages (from imbalanced-learn->imblearn) (0.24.1)\n",
      "Requirement already satisfied: numpy>=1.13.3 in e:\\new\\lib\\site-packages (from imbalanced-learn->imblearn) (1.20.1)\n",
      "Requirement already satisfied: joblib>=0.11 in e:\\new\\lib\\site-packages (from imbalanced-learn->imblearn) (1.0.1)\n",
      "Requirement already satisfied: scipy>=0.19.1 in e:\\new\\lib\\site-packages (from imbalanced-learn->imblearn) (1.6.2)\n",
      "Requirement already satisfied: threadpoolctl>=2.0.0 in e:\\new\\lib\\site-packages (from scikit-learn>=0.24->imbalanced-learn->imblearn) (2.1.0)\n"
     ]
    }
   ],
   "source": [
    "!pip install imblearn\n",
    "from imblearn.over_sampling import RandomOverSampler\n",
    "from imblearn.over_sampling import ADASYN\n",
    "from sklearn.model_selection import GridSearchCV\n",
    "from imblearn.over_sampling import SMOTE\n",
    "\n",
    "y_train.value_counts()"
   ]
  },
  {
   "cell_type": "markdown",
   "metadata": {},
   "source": [
    "### oversampling을 했을 경우, 정확도 비교"
   ]
  },
  {
   "cell_type": "code",
   "execution_count": 18,
   "metadata": {},
   "outputs": [],
   "source": [
    "#oversampling = SMOTE()\n",
    "#oversampling = RandomOverSampler(sampling_strategy='minority')\n",
    "'''\n",
    "oversampling = ADASYN(random_state=0)\n",
    "X_resampled, y_resampled = oversampling.fit_resample(X_train,y_train)\n",
    "print(y_resampled.value_counts())\n",
    "'''\n",
    "\n",
    "def plot_roc_oversampler(model,color,label):\n",
    "    model.fit(X_resampled,y_resampled)\n",
    "    prob = model.predict_proba(X_test)\n",
    "    prob = prob[:, 1]\n",
    "    fper, tper, thresholds = roc_curve(y_test, prob)\n",
    "    roc_score = roc_auc_score(y_test, prob)\n",
    "    plt.plot(fper, tper, color=color, label='{0} (AUC: {1:.3f})'.format(label,roc_score))\n",
    "\n",
    "def print_acc_cm(model,sampler):\n",
    "    prediction = cross_val_predict(model, X_resampled, y_resampled, cv=kfold)\n",
    "    predY = model.predict(X_test)\n",
    "\n",
    "    cm = confusion_matrix(y_resampled, prediction)\n",
    "    acc = accuracy_score(y_test, predY)\n",
    "    print(\"Best oversampling techniques: {}\\n predict accuracy: {}\\n\\n confusion_matrix\\n{}\".format(sampler,acc,cm)) "
   ]
  },
  {
   "cell_type": "markdown",
   "metadata": {},
   "source": [
    "#### Navie Bayes oversampling"
   ]
  },
  {
   "cell_type": "code",
   "execution_count": 19,
   "metadata": {
    "scrolled": true
   },
   "outputs": [
    {
     "name": "stdout",
     "output_type": "stream",
     "text": [
      "Best oversampling techniques: RandomOverSampler\n",
      " predict accuracy: 0.740625\n",
      "\n",
      " confusion_matrix\n",
      "[[785 320]\n",
      " [188 917]]\n"
     ]
    },
    {
     "data": {
      "image/png": "[encoded data removed]",
      "text/plain": [
       "<Figure size 432x288 with 1 Axes>"
      ]
     },
     "metadata": {
      "needs_background": "light"
     },
     "output_type": "display_data"
    }
   ],
   "source": [
    "model = GaussianNB(priors=None, var_smoothing=1e-09)\n",
    "\n",
    "plot_roc(model, 'black','normal ROC') \n",
    "\n",
    "X_resampled, y_resampled = SMOTE().fit_resample(X_train,y_train)\n",
    "model.fit(X_resampled,y_resampled)\n",
    "plot_roc_oversampler(model, 'orange','SMOTE ROC') \n",
    "\n",
    "X_resampled, y_resampled = RandomOverSampler(sampling_strategy='minority').fit_resample(X_train,y_train)\n",
    "model.fit(X_resampled,y_resampled)\n",
    "plot_roc_oversampler(model, 'blue','RandomOverSampler ROC') \n",
    "print_acc_cm(model,'RandomOverSampler')\n",
    "\n",
    "X_resampled, y_resampled = ADASYN().fit_resample(X_train,y_train)\n",
    "model.fit(X_resampled,y_resampled)\n",
    "plot_roc_oversampler(model, 'green','ADASYN ROC')\n",
    "\n",
    "plt.legend()\n",
    "plt.show()"
   ]
  },
  {
   "cell_type": "code",
   "execution_count": 20,
   "metadata": {},
   "outputs": [
    {
     "name": "stdout",
     "output_type": "stream",
     "text": [
      "Fitting 10 folds for each of 100 candidates, totalling 1000 fits\n",
      "\n",
      "Naive Bayer(after GridSearchCV) with predict accuracy: 0.800907029478458\n"
     ]
    },
    {
     "data": {
      "text/plain": [
       "array([[798, 307],\n",
       "       [145, 955]], dtype=int64)"
      ]
     },
     "execution_count": 20,
     "metadata": {},
     "output_type": "execute_result"
    }
   ],
   "source": [
    "param_grid_nb = {\n",
    "    'var_smoothing': np.logspace(0,-9, num=100)\n",
    "    # var_smothing: 분산에 추가되는 모든 feature들의 가장 큰 분산의 일부\n",
    "}\n",
    "\n",
    "nbModel_grid = GridSearchCV(estimator=GaussianNB(), param_grid=param_grid_nb, verbose=1, cv=10, n_jobs=-1)\n",
    "nbModel_grid.fit(X_resampled, y_resampled)\n",
    "\n",
    "best_grid = nbModel_grid.best_estimator_\n",
    "prediction = cross_val_predict(best_grid, X_resampled, y_resampled, cv=10)\n",
    "predY = best_grid.predict(X_resampled)\n",
    "\n",
    "acc = accuracy_score(y_resampled,predY)\n",
    "cm = confusion_matrix(y_resampled, prediction)\n",
    "\n",
    "print(\"\\nNaive Bayer(after GridSearchCV) with predict accuracy: {}\".format(acc)) \n",
    "cm"
   ]
  },
  {
   "cell_type": "markdown",
   "metadata": {},
   "source": [
    "### KNN oversampling"
   ]
  },
  {
   "cell_type": "code",
   "execution_count": 21,
   "metadata": {},
   "outputs": [
    {
     "name": "stdout",
     "output_type": "stream",
     "text": [
      "Best oversampling techniques: ADASYN\n",
      " predict accuracy: 0.76875\n",
      "\n",
      " confusion_matrix\n",
      "[[ 814  291]\n",
      " [  26 1074]]\n"
     ]
    },
    {
     "data": {
      "image/png": "[encoded data removed]",
      "text/plain": [
       "<Figure size 432x288 with 1 Axes>"
      ]
     },
     "metadata": {
      "needs_background": "light"
     },
     "output_type": "display_data"
    }
   ],
   "source": [
    "model = KNeighborsClassifier()\n",
    "\n",
    "plot_roc(model, 'black','normal ROC') \n",
    "\n",
    "X_resampled, y_resampled = SMOTE().fit_resample(X_train,y_train)\n",
    "model.fit(X_resampled,y_resampled)\n",
    "plot_roc_oversampler(model, 'orange','SMOTE ROC') \n",
    "\n",
    "X_resampled, y_resampled = RandomOverSampler(sampling_strategy='minority').fit_resample(X_train,y_train)\n",
    "model.fit(X_resampled,y_resampled)\n",
    "plot_roc_oversampler(model, 'blue','RandomOverSampler ROC') \n",
    "\n",
    "X_resampled, y_resampled = ADASYN().fit_resample(X_train,y_train)\n",
    "model.fit(X_resampled,y_resampled)\n",
    "plot_roc_oversampler(model, 'green','ADASYN ROC')\n",
    "print_acc_cm(model,'ADASYN')\n",
    "\n",
    "plt.legend()\n",
    "plt.show()"
   ]
  },
  {
   "cell_type": "code",
   "execution_count": 23,
   "metadata": {},
   "outputs": [
    {
     "name": "stdout",
     "output_type": "stream",
     "text": [
      "{'n_neighbors': [3, 5, 7, 9, 11, 13, 15, 17, 19, 21, 23, 25, 27, 29]}\n",
      "최적의 k는 : 3\n"
     ]
    },
    {
     "data": {
      "image/png": "[encoded data removed]",
      "text/plain": [
       "<Figure size 1440x720 with 1 Axes>"
      ]
     },
     "metadata": {
      "needs_background": "light"
     },
     "output_type": "display_data"
    }
   ],
   "source": [
    "model = KNeighborsClassifier()\n",
    "X_resampled, y_resampled = ADASYN().fit_resample(X_train,y_train)\n",
    "model.fit(X_resampled,y_resampled)\n",
    "k_list = [i for i in range(3,31) if i%2 == 1]\n",
    "\n",
    "param_grid = dict(n_neighbors=k_list)\n",
    "print(param_grid)\n",
    "\n",
    "grid = GridSearchCV(model, param_grid, cv=10, scoring='accuracy', return_train_score=False)\n",
    "grid.fit(X_resampled, y_resampled)\n",
    "\n",
    "result = pd.DataFrame(grid.cv_results_['params'])\n",
    "result['mean_test_score'] = grid.cv_results_['mean_test_score']\n",
    "result.sort_values(by='mean_test_score', ascending=False)\n",
    "\n",
    "plt.figure(figsize=(20,10))\n",
    "plt.plot(k_list,result['mean_test_score'] ,marker='o', linestyle='dashed')\n",
    "plt.axvline(3,color='red',linestyle='--')\n",
    "print('최적의 k는 :',3)"
   ]
  },
  {
   "cell_type": "code",
   "execution_count": 24,
   "metadata": {},
   "outputs": [
    {
     "name": "stdout",
     "output_type": "stream",
     "text": [
      "\n",
      "Naive Bayer(after GridSearchCV) with predict accuracy: 0.9442176870748299\n"
     ]
    },
    {
     "data": {
      "text/plain": [
       "array([[ 881,  224],\n",
       "       [  67, 1033]], dtype=int64)"
      ]
     },
     "execution_count": 24,
     "metadata": {},
     "output_type": "execute_result"
    }
   ],
   "source": [
    "best_grid = grid.best_estimator_\n",
    "prediction = cross_val_predict(best_grid, X_resampled, y_resampled, cv=10)\n",
    "predY = best_grid.predict(X_resampled)\n",
    "\n",
    "acc = accuracy_score(y_resampled,predY)\n",
    "cm = confusion_matrix(y_resampled, prediction)\n",
    "\n",
    "print(\"\\nNaive Bayer(after GridSearchCV) with predict accuracy: {}\".format(acc)) \n",
    "cm"
   ]
  },
  {
   "cell_type": "markdown",
   "metadata": {},
   "source": [
    "### Decision Tree oversampling"
   ]
  },
  {
   "cell_type": "code",
   "execution_count": 25,
   "metadata": {},
   "outputs": [
    {
     "name": "stdout",
     "output_type": "stream",
     "text": [
      "Best oversampling techniques: SMOTE\n",
      " predict accuracy: 0.85\n",
      "\n",
      " confusion_matrix\n",
      "[[ 954  151]\n",
      " [  92 1008]]\n"
     ]
    },
    {
     "data": {
      "image/png": "[encoded data removed]",
      "text/plain": [
       "<Figure size 432x288 with 1 Axes>"
      ]
     },
     "metadata": {
      "needs_background": "light"
     },
     "output_type": "display_data"
    }
   ],
   "source": [
    "model = DecisionTreeClassifier(random_state=1124)\n",
    "\n",
    "plot_roc(model, 'black','normal ROC') \n",
    "\n",
    "X_resampled, y_resampled = SMOTE().fit_resample(X_train,y_train)\n",
    "model.fit(X_resampled,y_resampled)\n",
    "plot_roc_oversampler(model, 'orange','SMOTE ROC') \n",
    "\n",
    "X_resampled, y_resampled = RandomOverSampler(sampling_strategy='minority').fit_resample(X_train,y_train)\n",
    "model.fit(X_resampled,y_resampled)\n",
    "plot_roc_oversampler(model, 'blue','RandomOverSampler ROC') \n",
    "\n",
    "X_resampled, y_resampled = ADASYN().fit_resample(X_train,y_train)\n",
    "model.fit(X_resampled,y_resampled)\n",
    "plot_roc_oversampler(model, 'green','ADASYN ROC')\n",
    "print_acc_cm(model,'SMOTE')\n",
    "\n",
    "plt.legend()\n",
    "plt.show()"
   ]
  },
  {
   "cell_type": "code",
   "execution_count": 26,
   "metadata": {},
   "outputs": [
    {
     "name": "stdout",
     "output_type": "stream",
     "text": [
      "Fitting 10 folds for each of 40 candidates, totalling 400 fits\n",
      "\n",
      "Naive Bayer(after GridSearchCV) with predict accuracy: 0.8751131221719457\n"
     ]
    },
    {
     "data": {
      "text/plain": [
       "array([[890, 215],\n",
       "       [118, 987]], dtype=int64)"
      ]
     },
     "execution_count": 26,
     "metadata": {},
     "output_type": "execute_result"
    }
   ],
   "source": [
    "param_grid_dt = {\n",
    "    \"criterion\":['gini','entropy'],\n",
    "    \"min_samples_split\":[2,3,4,5],\n",
    "    'max_depth': [1,2,3,4,5]\n",
    "}\n",
    "\n",
    "model = DecisionTreeClassifier()\n",
    "X_resampled, y_resampled = SMOTE().fit_resample(X_train,y_train)\n",
    "model.fit(X_resampled,y_resampled)\n",
    "\n",
    "dtModel_grid = GridSearchCV(model,param_grid=param_grid_dt,cv=10,verbose=1, n_jobs=-1)\n",
    "dtModel_grid.fit(X_resampled, y_resampled)\n",
    "\n",
    "best_grid = dtModel_grid.best_estimator_\n",
    "prediction = cross_val_predict(best_grid, X_resampled, y_resampled, cv=10)\n",
    "predY = best_grid.predict(X_resampled)\n",
    "\n",
    "acc = accuracy_score(y_resampled,predY)\n",
    "cm = confusion_matrix(y_resampled, prediction)\n",
    "\n",
    "print(\"\\nNaive Bayer(after GridSearchCV) with predict accuracy: {}\".format(acc)) \n",
    "cm"
   ]
  },
  {
   "cell_type": "markdown",
   "metadata": {},
   "source": [
    "'max_depth': [1,2,3,4,5]에 Null을 집어넣을 경우 predict accuracy가 1.0이 나오는데, 오버피팅으로 인해 Null을 뺐다."
   ]
  },
  {
   "cell_type": "markdown",
   "metadata": {},
   "source": [
    "### SVM oversampling"
   ]
  },
  {
   "cell_type": "code",
   "execution_count": 32,
   "metadata": {},
   "outputs": [
    {
     "name": "stdout",
     "output_type": "stream",
     "text": [
      "Best oversampling techniques: SMOTE\n",
      " predict accuracy: 0.7125\n",
      "\n",
      " confusion_matrix\n",
      "[[702 403]\n",
      " [208 897]]\n"
     ]
    },
    {
     "data": {
      "image/png": "[encoded data removed]",
      "text/plain": [
       "<Figure size 432x288 with 1 Axes>"
      ]
     },
     "metadata": {
      "needs_background": "light"
     },
     "output_type": "display_data"
    }
   ],
   "source": [
    "model = SVC(probability=True)\n",
    "\n",
    "plot_roc(model, 'black','normal ROC') \n",
    "X_resampled, y_resampled = SMOTE().fit_resample(X_train,y_train)\n",
    "model.fit(X_resampled,y_resampled)\n",
    "plot_roc_oversampler(model, 'orange','SMOTE ROC') \n",
    "print_acc_cm(model,'SMOTE')\n",
    "\n",
    "X_resampled, y_resampled = RandomOverSampler(sampling_strategy='minority').fit_resample(X_train,y_train)\n",
    "model.fit(X_resampled,y_resampled)\n",
    "plot_roc_oversampler(model, 'blue','RandomOverSampler ROC') \n",
    "\n",
    "X_resampled, y_resampled = ADASYN().fit_resample(X_train,y_train)\n",
    "model.fit(X_resampled,y_resampled)\n",
    "plot_roc_oversampler(model, 'green','ADASYN ROC')\n",
    "\n",
    "plt.legend()\n",
    "plt.show()"
   ]
  },
  {
   "cell_type": "code",
   "execution_count": 33,
   "metadata": {
    "scrolled": false
   },
   "outputs": [
    {
     "name": "stdout",
     "output_type": "stream",
     "text": [
      "Fitting 5 folds for each of 36 candidates, totalling 180 fits\n",
      "\n",
      "Naive Bayer(after GridSearchCV) with predict accuracy: 0.9995475113122172\n"
     ]
    },
    {
     "data": {
      "text/plain": [
       "array([[1006,   99],\n",
       "       [  33, 1072]], dtype=int64)"
      ]
     },
     "execution_count": 33,
     "metadata": {},
     "output_type": "execute_result"
    }
   ],
   "source": [
    "values = [0.001, 0.01, 0.1, 1, 10, 100]\n",
    "param_grid = {'C':values, 'gamma':values}\n",
    "\n",
    "model = SVC(kernel='rbf')\n",
    "X_resampled, y_resampled = SMOTE().fit_resample(X_train,y_train)\n",
    "model.fit(X_resampled,y_resampled)\n",
    "\n",
    "svmModel_grid = GridSearchCV(model,param_grid, cv=5,verbose=1, n_jobs=-1)\n",
    "svmModel_grid.fit(X_resampled, y_resampled)\n",
    "\n",
    "best_grid = svmModel_grid.best_estimator_\n",
    "prediction = cross_val_predict(best_grid, X_resampled, y_resampled, cv=10)\n",
    "predY = best_grid.predict(X_resampled)\n",
    "\n",
    "acc = accuracy_score(y_resampled,predY)\n",
    "cm = confusion_matrix(y_resampled, prediction)\n",
    "\n",
    "print(\"\\nNaive Bayer(after GridSearchCV) with predict accuracy: {}\".format(acc)) \n",
    "cm"
   ]
  },
  {
   "cell_type": "markdown",
   "metadata": {},
   "source": [
    "## Ensemble Learning\n",
    "앙상블은 다수의 학습 알고리즘을 사용해 학습 알고리즘들을 따로 쓰는 경우에 비해 더 좋은 예측 성능을 끌어올릴 수 있는 알고리즘 기법이다.\n",
    "\n",
    "<p> - Random Forest: 랜덤 포레스트는 훈련을 통해 구성해놓은 다수의 나무들로부터 분류 결과를 취합해서 결론을 얻는 기법\n",
    "<p> - Bagging: 부트스트랩을 집계하여 학습 데이터가 충분하지 않더라도 충분한 학습효과를 주는 기법\n",
    "<p> - Boosting: Bagging과 유사하지만 순차적으로 학습이 진행된다는 차별점을 가지고 있는 기법\n",
    "    \n",
    "#### 이 중, Random Forest 기법을 사용했다."
   ]
  },
  {
   "cell_type": "code",
   "execution_count": 51,
   "metadata": {},
   "outputs": [
    {
     "name": "stdout",
     "output_type": "stream",
     "text": [
      "0.884375\n"
     ]
    }
   ],
   "source": [
    "from sklearn.ensemble import RandomForestClassifier\n",
    "from sklearn.metrics import accuracy_score # 정확도 함수\n",
    "X_resampled, y_resampled = SMOTE().fit_resample(X_train,y_train)\n",
    "clf = RandomForestClassifier(n_estimators=30, max_depth=5,random_state=0)\n",
    "clf.fit(X_train,y_train)\n",
    "\n",
    "predict1 = clf.predict(X_test)\n",
    "print(accuracy_score(y_test,predict1))"
   ]
  },
  {
   "cell_type": "markdown",
   "metadata": {},
   "source": [
    "# 데이터간의 상관관계 파악하기"
   ]
  },
  {
   "cell_type": "code",
   "execution_count": 52,
   "metadata": {},
   "outputs": [
    {
     "data": {
      "text/html": [
       "<div>\n",
       "<style scoped>\n",
       "    .dataframe tbody tr th:only-of-type {\n",
       "        vertical-align: middle;\n",
       "    }\n",
       "\n",
       "    .dataframe tbody tr th {\n",
       "        vertical-align: top;\n",
       "    }\n",
       "\n",
       "    .dataframe thead th {\n",
       "        text-align: right;\n",
       "    }\n",
       "</style>\n",
       "<table border=\"1\" class=\"dataframe\">\n",
       "  <thead>\n",
       "    <tr style=\"text-align: right;\">\n",
       "      <th></th>\n",
       "      <th>fixed acidity</th>\n",
       "      <th>volatile acidity</th>\n",
       "      <th>citric acid</th>\n",
       "      <th>residual sugar</th>\n",
       "      <th>chlorides</th>\n",
       "      <th>free sulfur dioxide</th>\n",
       "      <th>total sulfur dioxide</th>\n",
       "      <th>density</th>\n",
       "      <th>pH</th>\n",
       "      <th>sulphates</th>\n",
       "      <th>alcohol</th>\n",
       "      <th>quality</th>\n",
       "      <th>quality1</th>\n",
       "    </tr>\n",
       "  </thead>\n",
       "  <tbody>\n",
       "    <tr>\n",
       "      <th>count</th>\n",
       "      <td>217.000000</td>\n",
       "      <td>217.000000</td>\n",
       "      <td>217.000000</td>\n",
       "      <td>217.000000</td>\n",
       "      <td>217.000000</td>\n",
       "      <td>217.000000</td>\n",
       "      <td>217.000000</td>\n",
       "      <td>217.000000</td>\n",
       "      <td>217.000000</td>\n",
       "      <td>217.000000</td>\n",
       "      <td>217.000000</td>\n",
       "      <td>217.000000</td>\n",
       "      <td>217.0</td>\n",
       "    </tr>\n",
       "    <tr>\n",
       "      <th>mean</th>\n",
       "      <td>8.847005</td>\n",
       "      <td>0.405530</td>\n",
       "      <td>0.376498</td>\n",
       "      <td>2.708756</td>\n",
       "      <td>0.075912</td>\n",
       "      <td>13.981567</td>\n",
       "      <td>34.889401</td>\n",
       "      <td>0.996030</td>\n",
       "      <td>3.288802</td>\n",
       "      <td>0.743456</td>\n",
       "      <td>11.518049</td>\n",
       "      <td>7.082949</td>\n",
       "      <td>1.0</td>\n",
       "    </tr>\n",
       "    <tr>\n",
       "      <th>std</th>\n",
       "      <td>1.999977</td>\n",
       "      <td>0.144963</td>\n",
       "      <td>0.194438</td>\n",
       "      <td>1.363026</td>\n",
       "      <td>0.028480</td>\n",
       "      <td>10.234615</td>\n",
       "      <td>32.572238</td>\n",
       "      <td>0.002201</td>\n",
       "      <td>0.154478</td>\n",
       "      <td>0.134038</td>\n",
       "      <td>0.998153</td>\n",
       "      <td>0.276443</td>\n",
       "      <td>0.0</td>\n",
       "    </tr>\n",
       "    <tr>\n",
       "      <th>min</th>\n",
       "      <td>4.900000</td>\n",
       "      <td>0.120000</td>\n",
       "      <td>0.000000</td>\n",
       "      <td>1.200000</td>\n",
       "      <td>0.012000</td>\n",
       "      <td>3.000000</td>\n",
       "      <td>7.000000</td>\n",
       "      <td>0.990640</td>\n",
       "      <td>2.880000</td>\n",
       "      <td>0.390000</td>\n",
       "      <td>9.200000</td>\n",
       "      <td>7.000000</td>\n",
       "      <td>1.0</td>\n",
       "    </tr>\n",
       "    <tr>\n",
       "      <th>25%</th>\n",
       "      <td>7.400000</td>\n",
       "      <td>0.300000</td>\n",
       "      <td>0.300000</td>\n",
       "      <td>2.000000</td>\n",
       "      <td>0.062000</td>\n",
       "      <td>6.000000</td>\n",
       "      <td>17.000000</td>\n",
       "      <td>0.994700</td>\n",
       "      <td>3.200000</td>\n",
       "      <td>0.650000</td>\n",
       "      <td>10.800000</td>\n",
       "      <td>7.000000</td>\n",
       "      <td>1.0</td>\n",
       "    </tr>\n",
       "    <tr>\n",
       "      <th>50%</th>\n",
       "      <td>8.700000</td>\n",
       "      <td>0.370000</td>\n",
       "      <td>0.400000</td>\n",
       "      <td>2.300000</td>\n",
       "      <td>0.073000</td>\n",
       "      <td>11.000000</td>\n",
       "      <td>27.000000</td>\n",
       "      <td>0.995720</td>\n",
       "      <td>3.270000</td>\n",
       "      <td>0.740000</td>\n",
       "      <td>11.600000</td>\n",
       "      <td>7.000000</td>\n",
       "      <td>1.0</td>\n",
       "    </tr>\n",
       "    <tr>\n",
       "      <th>75%</th>\n",
       "      <td>10.100000</td>\n",
       "      <td>0.490000</td>\n",
       "      <td>0.490000</td>\n",
       "      <td>2.700000</td>\n",
       "      <td>0.085000</td>\n",
       "      <td>18.000000</td>\n",
       "      <td>43.000000</td>\n",
       "      <td>0.997350</td>\n",
       "      <td>3.380000</td>\n",
       "      <td>0.820000</td>\n",
       "      <td>12.200000</td>\n",
       "      <td>7.000000</td>\n",
       "      <td>1.0</td>\n",
       "    </tr>\n",
       "    <tr>\n",
       "      <th>max</th>\n",
       "      <td>15.600000</td>\n",
       "      <td>0.915000</td>\n",
       "      <td>0.760000</td>\n",
       "      <td>8.900000</td>\n",
       "      <td>0.358000</td>\n",
       "      <td>54.000000</td>\n",
       "      <td>289.000000</td>\n",
       "      <td>1.003200</td>\n",
       "      <td>3.780000</td>\n",
       "      <td>1.360000</td>\n",
       "      <td>14.000000</td>\n",
       "      <td>8.000000</td>\n",
       "      <td>1.0</td>\n",
       "    </tr>\n",
       "  </tbody>\n",
       "</table>\n",
       "</div>"
      ],
      "text/plain": [
       "       fixed acidity  volatile acidity  citric acid  residual sugar  \\\n",
       "count     217.000000        217.000000   217.000000      217.000000   \n",
       "mean        8.847005          0.405530     0.376498        2.708756   \n",
       "std         1.999977          0.144963     0.194438        1.363026   \n",
       "min         4.900000          0.120000     0.000000        1.200000   \n",
       "25%         7.400000          0.300000     0.300000        2.000000   \n",
       "50%         8.700000          0.370000     0.400000        2.300000   \n",
       "75%        10.100000          0.490000     0.490000        2.700000   \n",
       "max        15.600000          0.915000     0.760000        8.900000   \n",
       "\n",
       "        chlorides  free sulfur dioxide  total sulfur dioxide     density  \\\n",
       "count  217.000000           217.000000            217.000000  217.000000   \n",
       "mean     0.075912            13.981567             34.889401    0.996030   \n",
       "std      0.028480            10.234615             32.572238    0.002201   \n",
       "min      0.012000             3.000000              7.000000    0.990640   \n",
       "25%      0.062000             6.000000             17.000000    0.994700   \n",
       "50%      0.073000            11.000000             27.000000    0.995720   \n",
       "75%      0.085000            18.000000             43.000000    0.997350   \n",
       "max      0.358000            54.000000            289.000000    1.003200   \n",
       "\n",
       "               pH   sulphates     alcohol     quality  quality1  \n",
       "count  217.000000  217.000000  217.000000  217.000000     217.0  \n",
       "mean     3.288802    0.743456   11.518049    7.082949       1.0  \n",
       "std      0.154478    0.134038    0.998153    0.276443       0.0  \n",
       "min      2.880000    0.390000    9.200000    7.000000       1.0  \n",
       "25%      3.200000    0.650000   10.800000    7.000000       1.0  \n",
       "50%      3.270000    0.740000   11.600000    7.000000       1.0  \n",
       "75%      3.380000    0.820000   12.200000    7.000000       1.0  \n",
       "max      3.780000    1.360000   14.000000    8.000000       1.0  "
      ]
     },
     "execution_count": 52,
     "metadata": {},
     "output_type": "execute_result"
    }
   ],
   "source": [
    "df_temp = data[data['quality1']==1]\n",
    "df_temp.describe()"
   ]
  },
  {
   "cell_type": "code",
   "execution_count": 53,
   "metadata": {
    "scrolled": true
   },
   "outputs": [
    {
     "data": {
      "text/html": [
       "<div>\n",
       "<style scoped>\n",
       "    .dataframe tbody tr th:only-of-type {\n",
       "        vertical-align: middle;\n",
       "    }\n",
       "\n",
       "    .dataframe tbody tr th {\n",
       "        vertical-align: top;\n",
       "    }\n",
       "\n",
       "    .dataframe thead th {\n",
       "        text-align: right;\n",
       "    }\n",
       "</style>\n",
       "<table border=\"1\" class=\"dataframe\">\n",
       "  <thead>\n",
       "    <tr style=\"text-align: right;\">\n",
       "      <th></th>\n",
       "      <th>fixed acidity</th>\n",
       "      <th>volatile acidity</th>\n",
       "      <th>citric acid</th>\n",
       "      <th>residual sugar</th>\n",
       "      <th>chlorides</th>\n",
       "      <th>free sulfur dioxide</th>\n",
       "      <th>total sulfur dioxide</th>\n",
       "      <th>density</th>\n",
       "      <th>pH</th>\n",
       "      <th>sulphates</th>\n",
       "      <th>alcohol</th>\n",
       "      <th>quality</th>\n",
       "      <th>quality1</th>\n",
       "    </tr>\n",
       "  </thead>\n",
       "  <tbody>\n",
       "    <tr>\n",
       "      <th>count</th>\n",
       "      <td>1382.000000</td>\n",
       "      <td>1382.000000</td>\n",
       "      <td>1382.000000</td>\n",
       "      <td>1382.000000</td>\n",
       "      <td>1382.000000</td>\n",
       "      <td>1382.000000</td>\n",
       "      <td>1382.000000</td>\n",
       "      <td>1382.000000</td>\n",
       "      <td>1382.000000</td>\n",
       "      <td>1382.000000</td>\n",
       "      <td>1382.000000</td>\n",
       "      <td>1382.000000</td>\n",
       "      <td>1382.0</td>\n",
       "    </tr>\n",
       "    <tr>\n",
       "      <th>mean</th>\n",
       "      <td>8.236831</td>\n",
       "      <td>0.547022</td>\n",
       "      <td>0.254407</td>\n",
       "      <td>2.512120</td>\n",
       "      <td>0.089281</td>\n",
       "      <td>16.172214</td>\n",
       "      <td>48.285818</td>\n",
       "      <td>0.996859</td>\n",
       "      <td>3.314616</td>\n",
       "      <td>0.644754</td>\n",
       "      <td>10.251037</td>\n",
       "      <td>5.408828</td>\n",
       "      <td>0.0</td>\n",
       "    </tr>\n",
       "    <tr>\n",
       "      <th>std</th>\n",
       "      <td>1.682726</td>\n",
       "      <td>0.176337</td>\n",
       "      <td>0.189665</td>\n",
       "      <td>1.415778</td>\n",
       "      <td>0.049113</td>\n",
       "      <td>10.467685</td>\n",
       "      <td>32.585604</td>\n",
       "      <td>0.001808</td>\n",
       "      <td>0.154135</td>\n",
       "      <td>0.170629</td>\n",
       "      <td>0.969664</td>\n",
       "      <td>0.601719</td>\n",
       "      <td>0.0</td>\n",
       "    </tr>\n",
       "    <tr>\n",
       "      <th>min</th>\n",
       "      <td>4.600000</td>\n",
       "      <td>0.160000</td>\n",
       "      <td>0.000000</td>\n",
       "      <td>0.900000</td>\n",
       "      <td>0.034000</td>\n",
       "      <td>1.000000</td>\n",
       "      <td>6.000000</td>\n",
       "      <td>0.990070</td>\n",
       "      <td>2.740000</td>\n",
       "      <td>0.330000</td>\n",
       "      <td>8.400000</td>\n",
       "      <td>3.000000</td>\n",
       "      <td>0.0</td>\n",
       "    </tr>\n",
       "    <tr>\n",
       "      <th>25%</th>\n",
       "      <td>7.100000</td>\n",
       "      <td>0.420000</td>\n",
       "      <td>0.082500</td>\n",
       "      <td>1.900000</td>\n",
       "      <td>0.071000</td>\n",
       "      <td>8.000000</td>\n",
       "      <td>23.000000</td>\n",
       "      <td>0.995785</td>\n",
       "      <td>3.210000</td>\n",
       "      <td>0.540000</td>\n",
       "      <td>9.500000</td>\n",
       "      <td>5.000000</td>\n",
       "      <td>0.0</td>\n",
       "    </tr>\n",
       "    <tr>\n",
       "      <th>50%</th>\n",
       "      <td>7.800000</td>\n",
       "      <td>0.540000</td>\n",
       "      <td>0.240000</td>\n",
       "      <td>2.200000</td>\n",
       "      <td>0.080000</td>\n",
       "      <td>14.000000</td>\n",
       "      <td>39.500000</td>\n",
       "      <td>0.996800</td>\n",
       "      <td>3.310000</td>\n",
       "      <td>0.600000</td>\n",
       "      <td>10.000000</td>\n",
       "      <td>5.000000</td>\n",
       "      <td>0.0</td>\n",
       "    </tr>\n",
       "    <tr>\n",
       "      <th>75%</th>\n",
       "      <td>9.100000</td>\n",
       "      <td>0.650000</td>\n",
       "      <td>0.400000</td>\n",
       "      <td>2.600000</td>\n",
       "      <td>0.091000</td>\n",
       "      <td>22.000000</td>\n",
       "      <td>65.000000</td>\n",
       "      <td>0.997900</td>\n",
       "      <td>3.410000</td>\n",
       "      <td>0.700000</td>\n",
       "      <td>10.900000</td>\n",
       "      <td>6.000000</td>\n",
       "      <td>0.0</td>\n",
       "    </tr>\n",
       "    <tr>\n",
       "      <th>max</th>\n",
       "      <td>15.900000</td>\n",
       "      <td>1.580000</td>\n",
       "      <td>1.000000</td>\n",
       "      <td>15.500000</td>\n",
       "      <td>0.611000</td>\n",
       "      <td>72.000000</td>\n",
       "      <td>165.000000</td>\n",
       "      <td>1.003690</td>\n",
       "      <td>4.010000</td>\n",
       "      <td>2.000000</td>\n",
       "      <td>14.900000</td>\n",
       "      <td>6.000000</td>\n",
       "      <td>0.0</td>\n",
       "    </tr>\n",
       "  </tbody>\n",
       "</table>\n",
       "</div>"
      ],
      "text/plain": [
       "       fixed acidity  volatile acidity  citric acid  residual sugar  \\\n",
       "count    1382.000000       1382.000000  1382.000000     1382.000000   \n",
       "mean        8.236831          0.547022     0.254407        2.512120   \n",
       "std         1.682726          0.176337     0.189665        1.415778   \n",
       "min         4.600000          0.160000     0.000000        0.900000   \n",
       "25%         7.100000          0.420000     0.082500        1.900000   \n",
       "50%         7.800000          0.540000     0.240000        2.200000   \n",
       "75%         9.100000          0.650000     0.400000        2.600000   \n",
       "max        15.900000          1.580000     1.000000       15.500000   \n",
       "\n",
       "         chlorides  free sulfur dioxide  total sulfur dioxide      density  \\\n",
       "count  1382.000000          1382.000000           1382.000000  1382.000000   \n",
       "mean      0.089281            16.172214             48.285818     0.996859   \n",
       "std       0.049113            10.467685             32.585604     0.001808   \n",
       "min       0.034000             1.000000              6.000000     0.990070   \n",
       "25%       0.071000             8.000000             23.000000     0.995785   \n",
       "50%       0.080000            14.000000             39.500000     0.996800   \n",
       "75%       0.091000            22.000000             65.000000     0.997900   \n",
       "max       0.611000            72.000000            165.000000     1.003690   \n",
       "\n",
       "                pH    sulphates      alcohol      quality  quality1  \n",
       "count  1382.000000  1382.000000  1382.000000  1382.000000    1382.0  \n",
       "mean      3.314616     0.644754    10.251037     5.408828       0.0  \n",
       "std       0.154135     0.170629     0.969664     0.601719       0.0  \n",
       "min       2.740000     0.330000     8.400000     3.000000       0.0  \n",
       "25%       3.210000     0.540000     9.500000     5.000000       0.0  \n",
       "50%       3.310000     0.600000    10.000000     5.000000       0.0  \n",
       "75%       3.410000     0.700000    10.900000     6.000000       0.0  \n",
       "max       4.010000     2.000000    14.900000     6.000000       0.0  "
      ]
     },
     "execution_count": 53,
     "metadata": {},
     "output_type": "execute_result"
    }
   ],
   "source": [
    "df_temp2 = data[data['quality1']==0]\n",
    "df_temp2.describe()"
   ]
  }
 ],
 "metadata": {
  "kernelspec": {
   "display_name": "Python 3",
   "language": "python",
   "name": "python3"
  },
  "language_info": {
   "codemirror_mode": {
    "name": "ipython",
    "version": 3
   },
   "file_extension": ".py",
   "mimetype": "text/x-python",
   "name": "python",
   "nbconvert_exporter": "python",
   "pygments_lexer": "ipython3",
   "version": "3.8.8"
  }
 },
 "nbformat": 4,
 "nbformat_minor": 2
}
